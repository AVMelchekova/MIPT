{
  "nbformat": 4,
  "nbformat_minor": 0,
  "metadata": {
    "colab": {
      "provenance": [],
      "collapsed_sections": []
    },
    "kernelspec": {
      "name": "python3",
      "display_name": "Python 3"
    },
    "language_info": {
      "name": "python"
    }
  },
  "cells": [
    {
      "cell_type": "code",
      "execution_count": 1,
      "metadata": {
        "id": "MXXTuy_o0sjk",
        "colab": {
          "base_uri": "https://localhost:8080/"
        },
        "outputId": "812db202-4b73-4e3a-8bfa-77e426d9e3d6"
      },
      "outputs": [
        {
          "output_type": "stream",
          "name": "stdout",
          "text": [
            "\u001b[K     |████████████████████████████████| 1.9 MB 5.2 MB/s \n",
            "\u001b[K     |████████████████████████████████| 62 kB 1.2 MB/s \n",
            "\u001b[?25h"
          ]
        }
      ],
      "source": [
        "!pip install -q -U kaggle_environments"
      ]
    },
    {
      "cell_type": "code",
      "source": [
        "import numpy as np\n",
        "import pandas as pd\n",
        "import random\n",
        "\n",
        "import matplotlib.pyplot as plt\n",
        "import seaborn as sns\n",
        "\n",
        "from kaggle_environments import evaluate"
      ],
      "metadata": {
        "id": "yz23vWHD0wcj"
      },
      "execution_count": 2,
      "outputs": []
    },
    {
      "cell_type": "code",
      "source": [
        "#Example of the simple agent\n",
        "#0 - rock\n",
        "#1 - paper\n",
        "#2 - scissors"
      ],
      "metadata": {
        "id": "dI1lRNQDg8Ai"
      },
      "execution_count": null,
      "outputs": []
    },
    {
      "cell_type": "markdown",
      "source": [
        "Агенты, возвращающие только камни или только ножницы или только бумагу"
      ],
      "metadata": {
        "id": "0kuo6IOxiRub"
      }
    },
    {
      "cell_type": "code",
      "source": [
        "%%writefile rock_agent.py\n",
        "\n",
        "\n",
        "def rock_agent(observation, configuration):\n",
        "    return 0"
      ],
      "metadata": {
        "id": "bqTqV7B92rJ6",
        "colab": {
          "base_uri": "https://localhost:8080/"
        },
        "outputId": "a88c8ad8-dae6-458a-9833-1215ddd04c0b"
      },
      "execution_count": 3,
      "outputs": [
        {
          "output_type": "stream",
          "name": "stdout",
          "text": [
            "Writing rock_agent.py\n"
          ]
        }
      ]
    },
    {
      "cell_type": "code",
      "source": [
        "%%writefile paper_agent.py\n",
        "\n",
        "\n",
        "def paper_agent(observation, configuration):\n",
        "    return 1"
      ],
      "metadata": {
        "colab": {
          "base_uri": "https://localhost:8080/"
        },
        "id": "wfLlv8ASXG0R",
        "outputId": "e81c35de-9878-4bb6-a955-45c926d18d0f"
      },
      "execution_count": 4,
      "outputs": [
        {
          "output_type": "stream",
          "name": "stdout",
          "text": [
            "Writing paper_agent.py\n"
          ]
        }
      ]
    },
    {
      "cell_type": "code",
      "source": [
        "%%writefile scissors_agent.py\n",
        "\n",
        "\n",
        "def scissors_agent(observation, configuration):\n",
        "    return 2"
      ],
      "metadata": {
        "colab": {
          "base_uri": "https://localhost:8080/"
        },
        "id": "jYQjGcCuZGYd",
        "outputId": "83a5ca6a-78ae-4c97-9094-4d10184fe9bf"
      },
      "execution_count": 5,
      "outputs": [
        {
          "output_type": "stream",
          "name": "stdout",
          "text": [
            "Writing scissors_agent.py\n"
          ]
        }
      ]
    },
    {
      "cell_type": "markdown",
      "source": [
        "Попробуем теперь использовать информацию о прошлых действиях противника. Опишем агента, который производит то же самое действие, что и оппонент на прошлом ходу"
      ],
      "metadata": {
        "id": "et1J5hUGigeh"
      }
    },
    {
      "cell_type": "code",
      "source": [
        "%%writefile copy_opponent.py\n",
        "\n",
        "\n",
        "def copy_opponent(observation, configuration):\n",
        "    import random\n",
        "    #in case we have information about opponent last move\n",
        "    if observation.step > 0:\n",
        "        return observation.lastOpponentAction\n",
        "    #initial step\n",
        "    else:\n",
        "        return random.randrange(0, configuration.signs)"
      ],
      "metadata": {
        "id": "7l6Ttw6qi0jk",
        "colab": {
          "base_uri": "https://localhost:8080/"
        },
        "outputId": "4b0ec42d-13b2-427b-bd6f-6f1f9e191b99"
      },
      "execution_count": 6,
      "outputs": [
        {
          "output_type": "stream",
          "name": "stdout",
          "text": [
            "Writing copy_opponent.py\n"
          ]
        }
      ]
    },
    {
      "cell_type": "markdown",
      "source": [
        "Агент, который возвращает случайное значение."
      ],
      "metadata": {
        "id": "BtSvJgVUto1V"
      }
    },
    {
      "cell_type": "code",
      "source": [
        "%%writefile random_agent.py\n",
        "\n",
        "import random\n",
        "\n",
        "def rnm_agent(observation, configuration):\n",
        "    return random.randrange(0, configuration.signs)"
      ],
      "metadata": {
        "colab": {
          "base_uri": "https://localhost:8080/"
        },
        "id": "oB0-a2rEtLYG",
        "outputId": "bd9f4f55-b446-4ec8-f3b9-f6e3145f0a1f"
      },
      "execution_count": 7,
      "outputs": [
        {
          "output_type": "stream",
          "name": "stdout",
          "text": [
            "Writing random_agent.py\n"
          ]
        }
      ]
    },
    {
      "cell_type": "markdown",
      "source": [
        "Агенты, которые возвращают только два варианта - (0, 1), (1, 2), (0, 2)."
      ],
      "metadata": {
        "id": "tOkCTfDZuGET"
      }
    },
    {
      "cell_type": "code",
      "source": [
        "%%writefile rock_paper_agent.py\n",
        "import random\n",
        "\n",
        "def rock_paper_agent(observation, configuration):\n",
        "    return random.randrange(0, 1)"
      ],
      "metadata": {
        "colab": {
          "base_uri": "https://localhost:8080/"
        },
        "id": "KiFO1jrvuU3t",
        "outputId": "3a0d9620-548a-4bf6-9878-37de5aa9b9af"
      },
      "execution_count": 11,
      "outputs": [
        {
          "output_type": "stream",
          "name": "stdout",
          "text": [
            "Overwriting rock_paper_agent.py\n"
          ]
        }
      ]
    },
    {
      "cell_type": "code",
      "source": [
        "%%writefile paper_scirrors_agent.py\n",
        "import random\n",
        "\n",
        "def paper_scirrors_agent(observation, configuration):\n",
        "    return random.randrange(1, 2)"
      ],
      "metadata": {
        "colab": {
          "base_uri": "https://localhost:8080/"
        },
        "id": "yOCN1lrvu99q",
        "outputId": "3f322d09-7163-459d-cd10-37e8b148550d"
      },
      "execution_count": 12,
      "outputs": [
        {
          "output_type": "stream",
          "name": "stdout",
          "text": [
            "Overwriting paper_scirrors_agent.py\n"
          ]
        }
      ]
    },
    {
      "cell_type": "code",
      "source": [
        "%%writefile rock_scirrors_agent.py\n",
        "import random\n",
        "\n",
        "def rock_scirrors_agent(observation, configuration):\n",
        "    return random.randrange(0, 2, 2)"
      ],
      "metadata": {
        "colab": {
          "base_uri": "https://localhost:8080/"
        },
        "id": "ckxYpmBXuh1q",
        "outputId": "f2d52975-3447-4c9c-d396-750b2a608413"
      },
      "execution_count": 13,
      "outputs": [
        {
          "output_type": "stream",
          "name": "stdout",
          "text": [
            "Overwriting rock_scirrors_agent.py\n"
          ]
        }
      ]
    },
    {
      "cell_type": "markdown",
      "source": [
        "Агент, стратегия которого, если шаг поединка делится нацело на 10, возвращать 0. Если остаток от деления на 10 равен 1, возвращать 1. Если остаток от деления на 10 равен 2, возвращать 2. В остальных случаях возвращать случайное число."
      ],
      "metadata": {
        "id": "Bux1atk3p2z7"
      }
    },
    {
      "cell_type": "code",
      "source": [
        "%%writefile step_agent.py\n",
        "import random\n",
        "\n",
        "step_action = None\n",
        "\n",
        "\n",
        "def step_agent(observation, configuration):\n",
        "    global step_action\n",
        "    if observation.step % 10 == 0:\n",
        "        step_action = 0\n",
        "    elif observation.step % 10 == 1:\n",
        "        step_action = 1\n",
        "    elif observation.step % 10 == 2:\n",
        "        step_action = 2\n",
        "    else:\n",
        "        return random.randrange(0, configuration.signs)\n",
        "    return step_action"
      ],
      "metadata": {
        "colab": {
          "base_uri": "https://localhost:8080/"
        },
        "id": "_Qcw7opRn2ub",
        "outputId": "4dc35194-3ef6-4013-be7a-ddb005a28256"
      },
      "execution_count": 32,
      "outputs": [
        {
          "output_type": "stream",
          "name": "stdout",
          "text": [
            "Writing step_agent.py\n"
          ]
        }
      ]
    },
    {
      "cell_type": "markdown",
      "source": [
        "Агент, который на четном шаге возвращает 0, на нечетном - 1."
      ],
      "metadata": {
        "id": "2wehNuh6qZuK"
      }
    },
    {
      "cell_type": "code",
      "source": [
        "%%writefile even_odd_agent.py\n",
        "\n",
        "step_action = None\n",
        "\n",
        "\n",
        "def even_odd(observation, configuration):\n",
        "    global step_action\n",
        "    if observation.step % 2 == 0:\n",
        "        step_action = 0\n",
        "    elif observation.step % 2 == 1:\n",
        "        step_action = 1\n",
        "  \n",
        "    return step_action"
      ],
      "metadata": {
        "colab": {
          "base_uri": "https://localhost:8080/"
        },
        "id": "QtgdEExqpQ1V",
        "outputId": "3910d820-f991-42d2-d386-0fafd48db867"
      },
      "execution_count": 33,
      "outputs": [
        {
          "output_type": "stream",
          "name": "stdout",
          "text": [
            "Writing even_odd_agent.py\n"
          ]
        }
      ]
    },
    {
      "cell_type": "markdown",
      "source": [
        "Агент, который на четном шаге возвращает 2, на нечетном - 1."
      ],
      "metadata": {
        "id": "0WOnvLL0qmj0"
      }
    },
    {
      "cell_type": "code",
      "source": [
        "%%writefile even_odd_1_2_agent.py\n",
        "\n",
        "step_action = None\n",
        "\n",
        "\n",
        "def even_odd_1_2(observation, configuration):\n",
        "    global step_action\n",
        "    if observation.step % 2 == 0:\n",
        "        step_action = 0\n",
        "    elif observation.step % 2 == 1:\n",
        "        step_action = 1\n",
        "  \n",
        "    return step_action"
      ],
      "metadata": {
        "colab": {
          "base_uri": "https://localhost:8080/"
        },
        "id": "MW2wLSleq0cp",
        "outputId": "2437b020-4390-44f9-bfcc-37f74df0f6df"
      },
      "execution_count": 34,
      "outputs": [
        {
          "output_type": "stream",
          "name": "stdout",
          "text": [
            "Writing even_odd_1_2_agent.py\n"
          ]
        }
      ]
    },
    {
      "cell_type": "markdown",
      "source": [
        "Агенты, предложенные kaggle"
      ],
      "metadata": {
        "id": "il1AUVbw8SCp"
      }
    },
    {
      "cell_type": "code",
      "source": [
        "%%writefile reactionary_agent.py\n",
        "import random\n",
        "from kaggle_environments.envs.rps.utils import get_score\n",
        "\n",
        "last_react_action = None\n",
        "\n",
        "\n",
        "def reactionary(observation, configuration):\n",
        "    global last_react_action\n",
        "    if observation.step == 0:\n",
        "        last_react_action = random.randrange(0, configuration.signs)\n",
        "    elif get_score(last_react_action, observation.lastOpponentAction) <= 1:\n",
        "        last_react_action = (observation.lastOpponentAction + 1) % configuration.signs\n",
        "\n",
        "    return last_react_action"
      ],
      "metadata": {
        "colab": {
          "base_uri": "https://localhost:8080/"
        },
        "id": "udJurVIjd9_K",
        "outputId": "fcde31cb-35f7-4f5a-876e-b23fa0087608"
      },
      "execution_count": 14,
      "outputs": [
        {
          "output_type": "stream",
          "name": "stdout",
          "text": [
            "Writing reactionary_agent.py\n"
          ]
        }
      ]
    },
    {
      "cell_type": "code",
      "source": [
        "%%writefile counter_reactionary.py\n",
        "import random\n",
        "from kaggle_environments.envs.rps.utils import get_score\n",
        "\n",
        "\n",
        "last_counter_action = None\n",
        "\n",
        "\n",
        "def counter_reactionary(observation, configuration):\n",
        "    global last_counter_action\n",
        "    if observation.step == 0:\n",
        "        last_counter_action = random.randrange(0, configuration.signs)\n",
        "    elif get_score(last_counter_action, observation.lastOpponentAction) == 1:\n",
        "        last_counter_action = (last_counter_action + 2) % configuration.signs\n",
        "    else:\n",
        "        last_counter_action = (observation.lastOpponentAction + 1) % configuration.signs\n",
        "\n",
        "    return last_counter_action"
      ],
      "metadata": {
        "colab": {
          "base_uri": "https://localhost:8080/"
        },
        "id": "yYdBWuxReAXZ",
        "outputId": "a269df53-cf76-48ca-ad96-fff5638e15e4"
      },
      "execution_count": 15,
      "outputs": [
        {
          "output_type": "stream",
          "name": "stdout",
          "text": [
            "Writing counter_reactionary.py\n"
          ]
        }
      ]
    },
    {
      "cell_type": "markdown",
      "source": [
        "Воспользуемся функцией evaluate из библиотеки kaggle_environments с помощью которой запустим наших агентов и проведем эксперимент на заданном количестве игр"
      ],
      "metadata": {
        "id": "ExgIpXUVjbjN"
      }
    },
    {
      "cell_type": "markdown",
      "source": [
        "Для начала создадим список агентов. Их 13"
      ],
      "metadata": {
        "id": "0JYbdR9Li4gg"
      }
    },
    {
      "cell_type": "code",
      "source": [
        "agents = [\"rock_agent.py\", \n",
        "          \"paper_agent.py\", \n",
        "          \"scissors_agent.py\", \n",
        "          \"random_agent.py\", \n",
        "          \"copy_opponent.py\", \n",
        "          \"rock_paper_agent.py\", \n",
        "          \"paper_scirrors_agent.py\", \n",
        "          \"rock_scirrors_agent.py\",\n",
        "          \"step_agent.py\",\n",
        "          \"even_odd_agent.py\",\n",
        "          \"even_odd_1_2_agent.py\",\n",
        "          \"reactionary_agent.py\", \n",
        "          \"counter_reactionary.py\"\n",
        "          ]"
      ],
      "metadata": {
        "id": "IYtXRXY4rvmf"
      },
      "execution_count": 35,
      "outputs": []
    },
    {
      "cell_type": "markdown",
      "source": [
        "Теперь создадим статистику"
      ],
      "metadata": {
        "id": "4YRPOFtEi9Uh"
      }
    },
    {
      "cell_type": "code",
      "source": [
        "n_agents = len(agents)\n",
        "\n",
        "scores = np.zeros((n_agents, n_agents), dtype=np.int)\n",
        "print(scores)"
      ],
      "metadata": {
        "id": "hFqDg-Vhqlb8",
        "colab": {
          "base_uri": "https://localhost:8080/"
        },
        "outputId": "11809fc9-157a-40d5-a520-be0e913a4915"
      },
      "execution_count": 36,
      "outputs": [
        {
          "output_type": "stream",
          "name": "stdout",
          "text": [
            "[[0 0 0 0 0 0 0 0 0 0 0 0 0]\n",
            " [0 0 0 0 0 0 0 0 0 0 0 0 0]\n",
            " [0 0 0 0 0 0 0 0 0 0 0 0 0]\n",
            " [0 0 0 0 0 0 0 0 0 0 0 0 0]\n",
            " [0 0 0 0 0 0 0 0 0 0 0 0 0]\n",
            " [0 0 0 0 0 0 0 0 0 0 0 0 0]\n",
            " [0 0 0 0 0 0 0 0 0 0 0 0 0]\n",
            " [0 0 0 0 0 0 0 0 0 0 0 0 0]\n",
            " [0 0 0 0 0 0 0 0 0 0 0 0 0]\n",
            " [0 0 0 0 0 0 0 0 0 0 0 0 0]\n",
            " [0 0 0 0 0 0 0 0 0 0 0 0 0]\n",
            " [0 0 0 0 0 0 0 0 0 0 0 0 0]\n",
            " [0 0 0 0 0 0 0 0 0 0 0 0 0]]\n"
          ]
        },
        {
          "output_type": "stream",
          "name": "stderr",
          "text": [
            "/usr/local/lib/python3.7/dist-packages/ipykernel_launcher.py:3: DeprecationWarning: `np.int` is a deprecated alias for the builtin `int`. To silence this warning, use `int` by itself. Doing this will not modify any behavior and is safe. When replacing `np.int`, you may wish to use e.g. `np.int64` or `np.int32` to specify the precision. If you wish to review your current use, check the release note link for additional information.\n",
            "Deprecated in NumPy 1.20; for more details and guidance: https://numpy.org/devdocs/release/1.20.0-notes.html#deprecations\n",
            "  This is separate from the ipykernel package so we can avoid doing imports until\n"
          ]
        }
      ]
    },
    {
      "cell_type": "markdown",
      "source": [
        "Пройдемся циклом и запишем результаты игр в подготовленную статистику."
      ],
      "metadata": {
        "id": "ZAGlWWEz8cMo"
      }
    },
    {
      "cell_type": "code",
      "source": [
        "for i in range(n_agents):\n",
        "    for j in range(i + 1, n_agents):\n",
        "        current_score = evaluate(\n",
        "            \"rps\", #environment to use - no need to change\n",
        "           [agents[i], agents[j]], #agents to evaluate\n",
        "           configuration={\"episodeSteps\": 500, \"tieRewardThreshold\": 1} #number of episodes \n",
        "        )\n",
        "\n",
        "        scores[i, j] = current_score[0][0]\n",
        "        scores[j, i] = current_score[0][1]"
      ],
      "metadata": {
        "id": "LQ85EGkbrCan"
      },
      "execution_count": 37,
      "outputs": []
    },
    {
      "cell_type": "markdown",
      "source": [
        "Результаты"
      ],
      "metadata": {
        "id": "au3uoDCVkPWO"
      }
    },
    {
      "cell_type": "code",
      "source": [
        "print(scores)"
      ],
      "metadata": {
        "colab": {
          "base_uri": "https://localhost:8080/"
        },
        "id": "qR6hUpmakJKH",
        "outputId": "8ad36f5a-1304-4cdb-f685-edf258ef21c4"
      },
      "execution_count": 38,
      "outputs": [
        {
          "output_type": "stream",
          "name": "stdout",
          "text": [
            "[[   0 -499  499  -25   -1    0 -499    0    5 -249 -249 -498 -249]\n",
            " [ 499    0 -499   27    1  499    0  499  -23  250  250 -499 -250]\n",
            " [-499  499    0  -16   -1 -499  499 -499   10   -1   -1 -499 -248]\n",
            " [  25  -27   16    0  -12   31   13   -5   40  -18  -20  -24   40]\n",
            " [   1   -1    1   12    0   -1   -1    1  -90    0    0 -250  499]\n",
            " [   0 -499  499  -31    1    0 -499    0   15 -249 -249 -497 -249]\n",
            " [ 499    0 -499  -13    1  499    0  499  -17  250  250 -499 -250]\n",
            " [   0 -499  499    5   -1    0 -499    0  -10 -249 -249 -497 -250]\n",
            " [  -5   23  -10  -40   90  -15   17   10    0  -51  -61    7  -13]\n",
            " [ 249 -250    1   18    0  249 -250  249   51    0    0  250  249]\n",
            " [ 249 -250    1   20    0  249 -250  249   61    0    0  248  249]\n",
            " [ 498  499  499   24  250  497  499  497   -7 -250 -248    0 -497]\n",
            " [ 249  250  248  -40 -499  249  250  250   13 -249 -249  497    0]]\n"
          ]
        }
      ]
    },
    {
      "cell_type": "markdown",
      "source": [
        "Переводим в dataframe и визуализируем."
      ],
      "metadata": {
        "id": "nsJO6Cr1v9Tt"
      }
    },
    {
      "cell_type": "code",
      "source": [
        "df_scores = pd.DataFrame(\n",
        "    scores, \n",
        "    index=agents, \n",
        "    columns=agents,\n",
        ")"
      ],
      "metadata": {
        "id": "BT2KyXV-wMGT"
      },
      "execution_count": null,
      "outputs": []
    },
    {
      "cell_type": "code",
      "source": [
        "plt.figure(figsize=(10, 10))\n",
        "sns.heatmap(\n",
        "    df_scores, annot=True, cbar=False, \n",
        "    cmap='coolwarm', linewidths=1, \n",
        "    linecolor='black', fmt=\"d\",\n",
        ")\n",
        "plt.xticks(rotation=90, fontsize=15)\n",
        "plt.yticks(fontsize=15);"
      ],
      "metadata": {
        "id": "ASOV_gAaq2uK",
        "colab": {
          "base_uri": "https://localhost:8080/",
          "height": 709
        },
        "outputId": "49370706-a429-44ba-93ce-7f469a488c14"
      },
      "execution_count": 39,
      "outputs": [
        {
          "output_type": "display_data",
          "data": {
            "text/plain": [
              "<Figure size 648x648 with 1 Axes>"
            ],
            "image/png": "[encoded data removed]"
          },
          "metadata": {
            "needs_background": "light"
          }
        }
      ]
    },
    {
      "cell_type": "markdown",
      "source": [
        "Рассчитаем среднее значение"
      ],
      "metadata": {
        "id": "P6TEY8sLl8A6"
      }
    },
    {
      "cell_type": "code",
      "source": [
        "df_scores['mean'] = df_scores.mean(axis=0)\n",
        "\n",
        "df_scores['mean'].sort_values(ascending=False)"
      ],
      "metadata": {
        "id": "pdk1xz3iq-vI",
        "colab": {
          "base_uri": "https://localhost:8080/"
        },
        "outputId": "f21f487a-9346-4551-fff4-37361b40c702"
      },
      "execution_count": 40,
      "outputs": [
        {
          "output_type": "execute_result",
          "data": {
            "text/plain": [
              "rock_agent.py              135.769231\n",
              "rock_paper_agent.py        135.230769\n",
              "rock_scirrors_agent.py     134.615385\n",
              "scissors_agent.py           96.538462\n",
              "step_agent.py                3.692308\n",
              "random_agent.py             -4.538462\n",
              "copy_opponent.py           -13.153846\n",
              "paper_scirrors_agent.py    -55.384615\n",
              "paper_agent.py             -58.000000\n",
              "even_odd_agent.py          -62.769231\n",
              "even_odd_1_2_agent.py      -63.538462\n",
              "counter_reactionary.py     -74.538462\n",
              "reactionary_agent.py      -173.923077\n",
              "Name: mean, dtype: float64"
            ]
          },
          "metadata": {},
          "execution_count": 40
        }
      ]
    },
    {
      "cell_type": "markdown",
      "source": [
        "Лучше всего себя показали агенты со стратегиями выбора из двух вариантов и с выбором только одного варианта. Причем все они содержат в себе выбор камня."
      ],
      "metadata": {
        "id": "QuAyR2RMmC6C"
      }
    }
  ]
}