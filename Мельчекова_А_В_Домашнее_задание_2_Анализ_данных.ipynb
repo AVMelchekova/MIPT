{
  "nbformat": 4,
  "nbformat_minor": 0,
  "metadata": {
    "colab": {
      "provenance": [],
      "authorship_tag": "ABX9TyO+HVUfKRbCFb8yMdpsmbzQ",
      "include_colab_link": true
    },
    "kernelspec": {
      "name": "python3",
      "display_name": "Python 3"
    },
    "language_info": {
      "name": "python"
    }
  },
  "cells": [
    {
      "cell_type": "markdown",
      "metadata": {
        "id": "view-in-github",
        "colab_type": "text"
      },
      "source": [
        "<a href=\"https://colab.research.google.com/github/AVMelchekova/MIPT/blob/master/%D0%9C%D0%B5%D0%BB%D1%8C%D1%87%D0%B5%D0%BA%D0%BE%D0%B2%D0%B0_%D0%90_%D0%92_%D0%94%D0%BE%D0%BC%D0%B0%D1%88%D0%BD%D0%B5%D0%B5_%D0%B7%D0%B0%D0%B4%D0%B0%D0%BD%D0%B8%D0%B5_2_%D0%90%D0%BD%D0%B0%D0%BB%D0%B8%D0%B7_%D0%B4%D0%B0%D0%BD%D0%BD%D1%8B%D1%85.ipynb\" target=\"_parent\"><img src=\"https://colab.research.google.com/assets/colab-badge.svg\" alt=\"Open In Colab\"/></a>"
      ]
    },
    {
      "cell_type": "markdown",
      "source": [
        "ЗАДАЧА\n",
        "\n",
        "В приложенных файлах вы увидите данные по прохождению студентами тестов на образовательной платформе. Такие данные могут быть использованы для построения персонализированных ИИ-ассистентов для поддержки обучения студента. На текущем этапе сосредоточимся на начальном этапе — сборе и подготовке данных.\n",
        "\n",
        "\n",
        "ВАМ НЕОБХОДИМО:\n",
        "\n",
        "Используя библиотеку pandas (или аналоги), проанализировать как можно больше характеристик, влияющих на успеваемость студентов.\n",
        "\n",
        "\n",
        "https://www.kaggle.com/competitions/riiid-test-answer-prediction/data"
      ],
      "metadata": {
        "id": "hLD8RDAB_Q4N"
      }
    },
    {
      "cell_type": "markdown",
      "source": [
        "Для выполнения задания вам необходимы файлы train.csv, lectures.csv, questions.csv."
      ],
      "metadata": {
        "id": "57dDtg7E_ekj"
      }
    },
    {
      "cell_type": "markdown",
      "source": [
        " __Описание данных__\n",
        "\n",
        "Данные были взяты из каггл соревнования и представляют собой вопросы\n",
        "и лекции в рамках Test of English for International Communication(TOEIC).\n",
        "Тест английского языка для международного общения - это международный стандартизированный тест на знание английского языка для лиц, не\n",
        "являющихся носителями языка. Он специально разработан для измерения\n",
        "повседневных навыков владения английским языком людей, работающих в\n",
        "международной среде. Существуют различные формы экзамена TOEIC, в нашем случае это TOEIC Listening Reading, который состоит из двух одинаково градуированных тестов оценки понимания деятельности на общую сумму\n",
        "возможных 990 баллов. В датасете 100 миллионов взаимодействий студента с\n",
        "вопросами или лекциями. Данные взаимодействия описаны тремя таблицами:\n",
        "\n",
        "`TRAIN.CSV:`\n",
        "\n",
        "Это основная таблица, которая связывает студента с вопросом или лекцией, с которыми он взаимодействует, а также дополнительная информация\n",
        "об этом взаимодействии. Список колонок и краткое их описание:\n",
        "\n",
        "* row_id: (int64) порядковый номер строки в этой таблице.\n",
        "* timestamp: (int64) время в миллисекундах между текущим взаимодействием и первым событием связанным с данным ученика.\n",
        "* user_id: (int32) идентификационный код ученика.\n",
        "* content_id: (int16) идентификационный код вопроса или лекции.\n",
        "* content_type_id: (int8) 0 если это вопрос, 1 если лекция.\n",
        "* task_container_id: (int16) идентификационный код группы вопросов, в которой задан текущий вопрос.\n",
        "* user_answer: (int8) вариант ответа, который выбрал ученик. Всего вариантов может быть 4. В случае если взаимодействие - это лекция, а не вопрос, то данное поле равно -1.\n",
        "* answered_correctly: (int8) правильно ли ученик ответил на вопрос. В случае, если взаимодействие - это лекция, а не вопрос, то данное поле равно -1. Данное поле нужно будет предсказывать.\n",
        "* prior_question_elapsed_time: (float32) среднее время в миллисекундах, которое ученику потребовалось, чтобы ответить на все вопросы в предыдущей группе, игнорируя любые лекции между ними. Равен 0 для первой группы вопросов, заданной ученику.\n",
        "* prior_question_had_explanation: (bool) смотрел ли ученик объяснение и правильный ответ на предыдущий вопрос.\n",
        "\n",
        "`QUESTIONS.CSV:`\n",
        "\n",
        "Таблица описывающая вопрос. Количество вопросов в отличии от количества учеников заранее зафиксировано, также задания повторно предлагаются\n",
        "различным ученикам. Список колонок:\n",
        "\n",
        "* question_id: внешний ключ(foreign key) для связывание данной информации с таблицей train.\n",
        "* bundle_id: код по которому вопросы объединяются в группы.\n",
        "* correct_answer: правильный ответ на вопрос.\n",
        "* part: один из семи типов вопросов TOEIC. Ниже будет краткое описание каждого\n",
        "* tags: один или несколько кодов с тэгами для данного вопроса. Описание тэгов не представлено, но самих кодов достаточно для того, чтобы\n",
        "сделать кластеризацию.\n",
        "\n",
        "`LECTIONS.CSV`\n",
        "\n",
        "Данная таблица аналогична таблице про вопросы, но она про лекции,\n",
        "перейдем к ее описанию:\n",
        "\n",
        "* lecture_id: внешний ключ(foreign key) для связывание данной информации с таблицей train.\n",
        "* type_of: краткое описание основной цели лекции.\n",
        "* part: один из семи типов, который был в таблице с вопросами.\n",
        "* tag: один тэг в качестве числа, который представляет лекцию, его значение не дано, также как и в вопросах.\n"
      ],
      "metadata": {
        "id": "qGdIxK5c_hk6"
      }
    },
    {
      "cell_type": "code",
      "source": [
        "import pandas as pd\n",
        "import numpy as np\n",
        "import matplotlib.pyplot as plt\n",
        "%matplotlib inline\n",
        "from matplotlib.ticker import FuncFormatter\n",
        "import seaborn as sns\n",
        "\n",
        "import gc \n",
        "import warnings \n",
        "warnings.filterwarnings('ignore')\n",
        "\n",
        "plt.rcParams['figure.figsize'] = [18,10]\n",
        "plt.style.use('ggplot')"
      ],
      "metadata": {
        "id": "zYJbWpRLyj8Q"
      },
      "execution_count": 1,
      "outputs": []
    },
    {
      "cell_type": "code",
      "source": [
        "from google.colab import drive\n",
        "drive.mount('/content/gdrive')"
      ],
      "metadata": {
        "colab": {
          "base_uri": "https://localhost:8080/"
        },
        "id": "ICaWVpPL4gU5",
        "outputId": "eb048bd7-246c-4cf9-bec1-e0706b398f7f"
      },
      "execution_count": 2,
      "outputs": [
        {
          "output_type": "stream",
          "name": "stdout",
          "text": [
            "Drive already mounted at /content/gdrive; to attempt to forcibly remount, call drive.mount(\"/content/gdrive\", force_remount=True).\n"
          ]
        }
      ]
    },
    {
      "cell_type": "code",
      "execution_count": 62,
      "metadata": {
        "id": "XG7tibK2_NBW",
        "colab": {
          "base_uri": "https://localhost:8080/"
        },
        "outputId": "9e52b46b-4b6c-49de-ce64-e85b15f104d9"
      },
      "outputs": [
        {
          "output_type": "stream",
          "name": "stdout",
          "text": [
            "Train size: (10000000, 10)\n"
          ]
        }
      ],
      "source": [
        "dtypes = {\n",
        "    \"row_id\": \"int64\",\n",
        "    \"timestamp\": \"int64\",\n",
        "    \"user_id\": \"int32\",\n",
        "    \"content_id\": \"int16\",\n",
        "    \"content_type_id\": \"int8\",\n",
        "    \"task_container_id\": \"int16\",\n",
        "    \"user_answer\": \"int8\",\n",
        "    \"answered_correctly\": \"int8\",\n",
        "    \"prior_question_elapsed_time\": \"float32\", \n",
        "    \"prior_question_had_explanation\": \"boolean\"\n",
        "}\n",
        "\n",
        "data = pd.read_csv(\"gdrive/MyDrive/Colab Notebooks/DZ_2/train.csv\", dtype=dtypes, nrows=10000000)\n",
        "\n",
        "print(\"Train size:\", data.shape)"
      ]
    },
    {
      "cell_type": "code",
      "source": [
        "questions = pd.read_csv('gdrive/MyDrive/Colab Notebooks/DZ_2/questions.csv')\n",
        "lectures = pd.read_csv('gdrive/MyDrive/Colab Notebooks/DZ_2/lectures.csv')"
      ],
      "metadata": {
        "id": "0Z-WBvEL1DAv"
      },
      "execution_count": 4,
      "outputs": []
    },
    {
      "cell_type": "markdown",
      "source": [
        "Я взала данные для анализа на 10 000 000 строк и 10 колонок."
      ],
      "metadata": {
        "id": "tVS3emMl01Ug"
      }
    },
    {
      "cell_type": "code",
      "source": [
        "data.head()"
      ],
      "metadata": {
        "colab": {
          "base_uri": "https://localhost:8080/",
          "height": 206
        },
        "id": "t5dt4Qgp_4rY",
        "outputId": "abacb823-d7e7-4c66-a769-284e6568f296"
      },
      "execution_count": 5,
      "outputs": [
        {
          "output_type": "execute_result",
          "data": {
            "text/plain": [
              "   row_id  timestamp  user_id  content_id  content_type_id  task_container_id  \\\n",
              "0       0          0      115        5692                0                  1   \n",
              "1       1      56943      115        5716                0                  2   \n",
              "2       2     118363      115         128                0                  0   \n",
              "3       3     131167      115        7860                0                  3   \n",
              "4       4     137965      115        7922                0                  4   \n",
              "\n",
              "   user_answer  answered_correctly  prior_question_elapsed_time  \\\n",
              "0            3                   1                          NaN   \n",
              "1            2                   1                      37000.0   \n",
              "2            0                   1                      55000.0   \n",
              "3            0                   1                      19000.0   \n",
              "4            1                   1                      11000.0   \n",
              "\n",
              "   prior_question_had_explanation  \n",
              "0                            <NA>  \n",
              "1                           False  \n",
              "2                           False  \n",
              "3                           False  \n",
              "4                           False  "
            ],
            "text/html": [
              "\n",
              "  <div id=\"df-267dc42c-865e-493d-90bf-17cde3a85973\">\n",
              "    <div class=\"colab-df-container\">\n",
              "      <div>\n",
              "<style scoped>\n",
              "    .dataframe tbody tr th:only-of-type {\n",
              "        vertical-align: middle;\n",
              "    }\n",
              "\n",
              "    .dataframe tbody tr th {\n",
              "        vertical-align: top;\n",
              "    }\n",
              "\n",
              "    .dataframe thead th {\n",
              "        text-align: right;\n",
              "    }\n",
              "</style>\n",
              "<table border=\"1\" class=\"dataframe\">\n",
              "  <thead>\n",
              "    <tr style=\"text-align: right;\">\n",
              "      <th></th>\n",
              "      <th>row_id</th>\n",
              "      <th>timestamp</th>\n",
              "      <th>user_id</th>\n",
              "      <th>content_id</th>\n",
              "      <th>content_type_id</th>\n",
              "      <th>task_container_id</th>\n",
              "      <th>user_answer</th>\n",
              "      <th>answered_correctly</th>\n",
              "      <th>prior_question_elapsed_time</th>\n",
              "      <th>prior_question_had_explanation</th>\n",
              "    </tr>\n",
              "  </thead>\n",
              "  <tbody>\n",
              "    <tr>\n",
              "      <th>0</th>\n",
              "      <td>0</td>\n",
              "      <td>0</td>\n",
              "      <td>115</td>\n",
              "      <td>5692</td>\n",
              "      <td>0</td>\n",
              "      <td>1</td>\n",
              "      <td>3</td>\n",
              "      <td>1</td>\n",
              "      <td>NaN</td>\n",
              "      <td>&lt;NA&gt;</td>\n",
              "    </tr>\n",
              "    <tr>\n",
              "      <th>1</th>\n",
              "      <td>1</td>\n",
              "      <td>56943</td>\n",
              "      <td>115</td>\n",
              "      <td>5716</td>\n",
              "      <td>0</td>\n",
              "      <td>2</td>\n",
              "      <td>2</td>\n",
              "      <td>1</td>\n",
              "      <td>37000.0</td>\n",
              "      <td>False</td>\n",
              "    </tr>\n",
              "    <tr>\n",
              "      <th>2</th>\n",
              "      <td>2</td>\n",
              "      <td>118363</td>\n",
              "      <td>115</td>\n",
              "      <td>128</td>\n",
              "      <td>0</td>\n",
              "      <td>0</td>\n",
              "      <td>0</td>\n",
              "      <td>1</td>\n",
              "      <td>55000.0</td>\n",
              "      <td>False</td>\n",
              "    </tr>\n",
              "    <tr>\n",
              "      <th>3</th>\n",
              "      <td>3</td>\n",
              "      <td>131167</td>\n",
              "      <td>115</td>\n",
              "      <td>7860</td>\n",
              "      <td>0</td>\n",
              "      <td>3</td>\n",
              "      <td>0</td>\n",
              "      <td>1</td>\n",
              "      <td>19000.0</td>\n",
              "      <td>False</td>\n",
              "    </tr>\n",
              "    <tr>\n",
              "      <th>4</th>\n",
              "      <td>4</td>\n",
              "      <td>137965</td>\n",
              "      <td>115</td>\n",
              "      <td>7922</td>\n",
              "      <td>0</td>\n",
              "      <td>4</td>\n",
              "      <td>1</td>\n",
              "      <td>1</td>\n",
              "      <td>11000.0</td>\n",
              "      <td>False</td>\n",
              "    </tr>\n",
              "  </tbody>\n",
              "</table>\n",
              "</div>\n",
              "      <button class=\"colab-df-convert\" onclick=\"convertToInteractive('df-267dc42c-865e-493d-90bf-17cde3a85973')\"\n",
              "              title=\"Convert this dataframe to an interactive table.\"\n",
              "              style=\"display:none;\">\n",
              "        \n",
              "  <svg xmlns=\"http://www.w3.org/2000/svg\" height=\"24px\"viewBox=\"0 0 24 24\"\n",
              "       width=\"24px\">\n",
              "    <path d=\"M0 0h24v24H0V0z\" fill=\"none\"/>\n",
              "    <path d=\"M18.56 5.44l.94 2.06.94-2.06 2.06-.94-2.06-.94-.94-2.06-.94 2.06-2.06.94zm-11 1L8.5 8.5l.94-2.06 2.06-.94-2.06-.94L8.5 2.5l-.94 2.06-2.06.94zm10 10l.94 2.06.94-2.06 2.06-.94-2.06-.94-.94-2.06-.94 2.06-2.06.94z\"/><path d=\"M17.41 7.96l-1.37-1.37c-.4-.4-.92-.59-1.43-.59-.52 0-1.04.2-1.43.59L10.3 9.45l-7.72 7.72c-.78.78-.78 2.05 0 2.83L4 21.41c.39.39.9.59 1.41.59.51 0 1.02-.2 1.41-.59l7.78-7.78 2.81-2.81c.8-.78.8-2.07 0-2.86zM5.41 20L4 18.59l7.72-7.72 1.47 1.35L5.41 20z\"/>\n",
              "  </svg>\n",
              "      </button>\n",
              "      \n",
              "  <style>\n",
              "    .colab-df-container {\n",
              "      display:flex;\n",
              "      flex-wrap:wrap;\n",
              "      gap: 12px;\n",
              "    }\n",
              "\n",
              "    .colab-df-convert {\n",
              "      background-color: #E8F0FE;\n",
              "      border: none;\n",
              "      border-radius: 50%;\n",
              "      cursor: pointer;\n",
              "      display: none;\n",
              "      fill: #1967D2;\n",
              "      height: 32px;\n",
              "      padding: 0 0 0 0;\n",
              "      width: 32px;\n",
              "    }\n",
              "\n",
              "    .colab-df-convert:hover {\n",
              "      background-color: #E2EBFA;\n",
              "      box-shadow: 0px 1px 2px rgba(60, 64, 67, 0.3), 0px 1px 3px 1px rgba(60, 64, 67, 0.15);\n",
              "      fill: #174EA6;\n",
              "    }\n",
              "\n",
              "    [theme=dark] .colab-df-convert {\n",
              "      background-color: #3B4455;\n",
              "      fill: #D2E3FC;\n",
              "    }\n",
              "\n",
              "    [theme=dark] .colab-df-convert:hover {\n",
              "      background-color: #434B5C;\n",
              "      box-shadow: 0px 1px 3px 1px rgba(0, 0, 0, 0.15);\n",
              "      filter: drop-shadow(0px 1px 2px rgba(0, 0, 0, 0.3));\n",
              "      fill: #FFFFFF;\n",
              "    }\n",
              "  </style>\n",
              "\n",
              "      <script>\n",
              "        const buttonEl =\n",
              "          document.querySelector('#df-267dc42c-865e-493d-90bf-17cde3a85973 button.colab-df-convert');\n",
              "        buttonEl.style.display =\n",
              "          google.colab.kernel.accessAllowed ? 'block' : 'none';\n",
              "\n",
              "        async function convertToInteractive(key) {\n",
              "          const element = document.querySelector('#df-267dc42c-865e-493d-90bf-17cde3a85973');\n",
              "          const dataTable =\n",
              "            await google.colab.kernel.invokeFunction('convertToInteractive',\n",
              "                                                     [key], {});\n",
              "          if (!dataTable) return;\n",
              "\n",
              "          const docLinkHtml = 'Like what you see? Visit the ' +\n",
              "            '<a target=\"_blank\" href=https://colab.research.google.com/notebooks/data_table.ipynb>data table notebook</a>'\n",
              "            + ' to learn more about interactive tables.';\n",
              "          element.innerHTML = '';\n",
              "          dataTable['output_type'] = 'display_data';\n",
              "          await google.colab.output.renderOutput(dataTable, element);\n",
              "          const docLink = document.createElement('div');\n",
              "          docLink.innerHTML = docLinkHtml;\n",
              "          element.appendChild(docLink);\n",
              "        }\n",
              "      </script>\n",
              "    </div>\n",
              "  </div>\n",
              "  "
            ]
          },
          "metadata": {},
          "execution_count": 5
        }
      ]
    },
    {
      "cell_type": "code",
      "source": [
        "data.info()"
      ],
      "metadata": {
        "id": "zSnSGq_I0KnZ",
        "colab": {
          "base_uri": "https://localhost:8080/"
        },
        "outputId": "6fb21e1a-9498-4eff-b2cd-116318328950"
      },
      "execution_count": 6,
      "outputs": [
        {
          "output_type": "stream",
          "name": "stdout",
          "text": [
            "<class 'pandas.core.frame.DataFrame'>\n",
            "RangeIndex: 10000000 entries, 0 to 9999999\n",
            "Data columns (total 10 columns):\n",
            " #   Column                          Dtype  \n",
            "---  ------                          -----  \n",
            " 0   row_id                          int64  \n",
            " 1   timestamp                       int64  \n",
            " 2   user_id                         int32  \n",
            " 3   content_id                      int16  \n",
            " 4   content_type_id                 int8   \n",
            " 5   task_container_id               int16  \n",
            " 6   user_answer                     int8   \n",
            " 7   answered_correctly              int8   \n",
            " 8   prior_question_elapsed_time     float32\n",
            " 9   prior_question_had_explanation  boolean\n",
            "dtypes: boolean(1), float32(1), int16(2), int32(1), int64(2), int8(3)\n",
            "memory usage: 314.7 MB\n"
          ]
        }
      ]
    },
    {
      "cell_type": "code",
      "source": [
        "data.isna().sum()"
      ],
      "metadata": {
        "id": "JKQtf3K60NTn",
        "colab": {
          "base_uri": "https://localhost:8080/"
        },
        "outputId": "5592ba88-b0b4-4c7f-9bd7-a3d22a0352a5"
      },
      "execution_count": 7,
      "outputs": [
        {
          "output_type": "execute_result",
          "data": {
            "text/plain": [
              "row_id                                 0\n",
              "timestamp                              0\n",
              "user_id                                0\n",
              "content_id                             0\n",
              "content_type_id                        0\n",
              "task_container_id                      0\n",
              "user_answer                            0\n",
              "answered_correctly                     0\n",
              "prior_question_elapsed_time       234784\n",
              "prior_question_had_explanation     39388\n",
              "dtype: int64"
            ]
          },
          "metadata": {},
          "execution_count": 7
        }
      ]
    },
    {
      "cell_type": "markdown",
      "source": [
        "Уникальных user_id 39491."
      ],
      "metadata": {
        "id": "KZJ_RVgi1DR4"
      }
    },
    {
      "cell_type": "code",
      "source": [
        "data.user_id.nunique()"
      ],
      "metadata": {
        "id": "KxLKjsA2Bq3r",
        "colab": {
          "base_uri": "https://localhost:8080/"
        },
        "outputId": "e1d836e8-53ed-4c59-b0e8-be9b0c33f58b"
      },
      "execution_count": 9,
      "outputs": [
        {
          "output_type": "execute_result",
          "data": {
            "text/plain": [
              "39491"
            ]
          },
          "metadata": {},
          "execution_count": 9
        }
      ]
    },
    {
      "cell_type": "markdown",
      "source": [
        "Content_type_id = 0 означает, что был задан вопрос. 1 означает, что пользователь смотрел лекцию."
      ],
      "metadata": {
        "id": "dDKVO9B_1h_U"
      }
    },
    {
      "cell_type": "code",
      "source": [
        "data.content_type_id.value_counts()"
      ],
      "metadata": {
        "id": "gU2TM6yP1jOU",
        "colab": {
          "base_uri": "https://localhost:8080/"
        },
        "outputId": "1be28595-2ee6-48f6-8118-478526608716"
      },
      "execution_count": 10,
      "outputs": [
        {
          "output_type": "execute_result",
          "data": {
            "text/plain": [
              "0    9804604\n",
              "1     195396\n",
              "Name: content_type_id, dtype: int64"
            ]
          },
          "metadata": {},
          "execution_count": 10
        }
      ]
    },
    {
      "cell_type": "code",
      "source": [
        "print(f'В таблице {data.content_id.nunique()} id, из которых {data[data.content_type_id == False].content_id.nunique()} вопросы.')"
      ],
      "metadata": {
        "id": "3mhd2qKo14uc",
        "colab": {
          "base_uri": "https://localhost:8080/"
        },
        "outputId": "554a0503-2664-4eea-bec5-a7ff6343526b"
      },
      "execution_count": 63,
      "outputs": [
        {
          "output_type": "stream",
          "name": "stdout",
          "text": [
            "В таблице 13749 id, из которых 13500 вопросы.\n"
          ]
        }
      ]
    },
    {
      "cell_type": "code",
      "source": [
        "cids = data.content_id.value_counts()[:30]\n",
        "\n",
        "fig = plt.figure(figsize=(12,6))\n",
        "ax = cids.plot.bar()\n",
        "plt.title(\"Тридцать наиболее используемых идентификаторов контента\")\n",
        "plt.xticks(rotation=90)\n",
        "ax.get_yaxis().set_major_formatter(FuncFormatter(lambda x, p: format(int(x), ',')))\n",
        "plt.show()"
      ],
      "metadata": {
        "id": "RQ3_IRIw2Tn7",
        "colab": {
          "base_uri": "https://localhost:8080/",
          "height": 413
        },
        "outputId": "a2810981-2f77-4431-fff6-5be6952ce35f"
      },
      "execution_count": 12,
      "outputs": [
        {
          "output_type": "display_data",
          "data": {
            "text/plain": [
              "<Figure size 864x432 with 1 Axes>"
            ],
            "image/png": "[encoded data removed]"
          },
          "metadata": {}
        }
      ]
    },
    {
      "cell_type": "markdown",
      "source": [
        "task_container_id: (int16) Идентификационный код пакета вопросов или лекций. Например, пользователь может увидеть три вопроса подряд, прежде чем увидеть объяснения к любому из них. Все три вопроса будут иметь общий идентификатор task_container_id."
      ],
      "metadata": {
        "id": "45QLwrPR2BbV"
      }
    },
    {
      "cell_type": "code",
      "source": [
        "data.task_container_id.nunique()"
      ],
      "metadata": {
        "id": "BSO0_yf22q-d",
        "colab": {
          "base_uri": "https://localhost:8080/"
        },
        "outputId": "d8e3bca1-9017-478e-e9cc-27c85d2afceb"
      },
      "execution_count": 13,
      "outputs": [
        {
          "output_type": "execute_result",
          "data": {
            "text/plain": [
              "10000"
            ]
          },
          "metadata": {},
          "execution_count": 13
        }
      ]
    },
    {
      "cell_type": "markdown",
      "source": [
        "Давайте посмотрим на самые популярные задачи."
      ],
      "metadata": {
        "id": "FNW2kKxWrTRf"
      }
    },
    {
      "cell_type": "code",
      "source": [
        "fig, ax = plt.subplots(ncols=2, nrows=1, figsize=(20,14))\n",
        "\n",
        "sns.distplot(data.task_container_id, kde=False,hist_kws={\n",
        "                 'rwidth': 0.85,\n",
        "                 'edgecolor': 'black',\n",
        "                 'alpha': 0.8}, ax=ax[0])\n",
        "\n",
        "\n",
        "ax[0].set_ylabel('Частота')\n",
        "ax[0].set_title('Распределение Task Container ID', weight='bold')\n",
        "\n",
        "sns.countplot(y='task_container_id', data=data, order=data.task_container_id.value_counts().index[:25], palette='autumn', ax=ax[1])\n",
        "ax[1].set_title('Топ 25 задач', weight='bold')\n",
        "\n",
        "\n",
        "plt.show()"
      ],
      "metadata": {
        "colab": {
          "base_uri": "https://localhost:8080/",
          "height": 843
        },
        "id": "_fBlMVTwq4Si",
        "outputId": "565ca1d5-f1e9-4bc0-9e6a-86d7fc8eaa0d"
      },
      "execution_count": 14,
      "outputs": [
        {
          "output_type": "display_data",
          "data": {
            "text/plain": [
              "<Figure size 1440x1008 with 2 Axes>"
            ],
            "image/png": "[encoded data removed]"
          },
          "metadata": {}
        }
      ]
    },
    {
      "cell_type": "markdown",
      "source": [
        "user_answer. Похоже, что вопросы имеют множественный выбор (ответы 0-3). Как указано в описании данных, -1 - это фактически отсутствие ответа (так как взаимодействие было лекцией, а не вопросом)."
      ],
      "metadata": {
        "id": "Q5FlSUlc3BmL"
      }
    },
    {
      "cell_type": "code",
      "source": [
        "data.user_answer.value_counts()"
      ],
      "metadata": {
        "id": "WKZ_WMxR3Ck7",
        "colab": {
          "base_uri": "https://localhost:8080/"
        },
        "outputId": "ec051fe0-d944-4343-9710-ee6db2744086"
      },
      "execution_count": 15,
      "outputs": [
        {
          "output_type": "execute_result",
          "data": {
            "text/plain": [
              " 0    2784028\n",
              " 1    2660660\n",
              " 3    2579528\n",
              " 2    1780388\n",
              "-1     195396\n",
              "Name: user_answer, dtype: int64"
            ]
          },
          "metadata": {},
          "execution_count": 15
        }
      ]
    },
    {
      "cell_type": "markdown",
      "source": [
        "Здесь видно, что вариант ответа под номером 2 встречается реже, чем остальные из трех ответов. Похоже, что пользователям /инструкторам не очень нравится вариант № 2."
      ],
      "metadata": {
        "id": "KqY07Jua1x5R"
      }
    },
    {
      "cell_type": "code",
      "source": [
        "g=sns.countplot(data.user_answer, hue=data.answered_correctly, palette='autumn', order=data.user_answer.value_counts().index)\n",
        "\n",
        "total = float(len(data['user_answer']))\n",
        "\n",
        "for p in g.patches:\n",
        "    height = p.get_height()\n",
        "    g.text(p.get_x() + p.get_width() / 2.,\n",
        "            height + 2,\n",
        "            '{:1.2f}%'.format((height / total) * 100),\n",
        "            ha='center')\n",
        "\n",
        "plt.title('Неправильный/правильный ответ User Answer  (-1 для лекций)', weight='bold')\n",
        "\n",
        "plt.show()"
      ],
      "metadata": {
        "colab": {
          "base_uri": "https://localhost:8080/",
          "height": 834
        },
        "id": "EMpjEfRzu2Ha",
        "outputId": "518bf546-ca23-4e8b-9de9-cc6bc76d841f"
      },
      "execution_count": 16,
      "outputs": [
        {
          "output_type": "stream",
          "name": "stderr",
          "text": [
            "WARNING:matplotlib.text:posx and posy should be finite values\n",
            "WARNING:matplotlib.text:posx and posy should be finite values\n",
            "WARNING:matplotlib.text:posx and posy should be finite values\n",
            "WARNING:matplotlib.text:posx and posy should be finite values\n",
            "WARNING:matplotlib.text:posx and posy should be finite values\n",
            "WARNING:matplotlib.text:posx and posy should be finite values\n",
            "WARNING:matplotlib.text:posx and posy should be finite values\n",
            "WARNING:matplotlib.text:posx and posy should be finite values\n",
            "WARNING:matplotlib.text:posx and posy should be finite values\n",
            "WARNING:matplotlib.text:posx and posy should be finite values\n",
            "WARNING:matplotlib.text:posx and posy should be finite values\n",
            "WARNING:matplotlib.text:posx and posy should be finite values\n"
          ]
        },
        {
          "output_type": "display_data",
          "data": {
            "text/plain": [
              "<Figure size 1296x720 with 1 Axes>"
            ],
            "image/png": "[encoded data removed]"
          },
          "metadata": {}
        }
      ]
    },
    {
      "cell_type": "markdown",
      "source": [
        "timestamp: (int64) время в миллисекундах между этим взаимодействием пользователя и первым завершением события от этого пользователя. Как вы можете видеть, большинство взаимодействий происходит от пользователей, которые еще не очень долго были активны на платформе."
      ],
      "metadata": {
        "id": "qd__b69c3OEc"
      }
    },
    {
      "cell_type": "code",
      "source": [
        "#1 год = 31536000000 мс\n",
        "ts = data['timestamp']/(31536000000/12)\n",
        "\n",
        "ts.plot.hist(bins=100)\n",
        "plt.title(\"Гистограмма временной метки\")\n",
        "plt.xticks(rotation=0)\n",
        "plt.xlabel(\"Месяцы между взаимодействием пользователя и первым завершением события от этого пользователя\")\n",
        "plt.show()"
      ],
      "metadata": {
        "id": "j263yBg13VBb",
        "colab": {
          "base_uri": "https://localhost:8080/",
          "height": 626
        },
        "outputId": "9c181279-9f32-40aa-d80c-0945ba0bbea6"
      },
      "execution_count": 21,
      "outputs": [
        {
          "output_type": "display_data",
          "data": {
            "text/plain": [
              "<Figure size 1296x720 with 1 Axes>"
            ],
            "image/png": "[encoded data removed]"
          },
          "metadata": {}
        }
      ]
    },
    {
      "cell_type": "markdown",
      "source": [
        "Если мы отфильтруем данные по timestamp==0, то получим время 0 для всех пользователей."
      ],
      "metadata": {
        "id": "1mahGoMQ38mZ"
      }
    },
    {
      "cell_type": "code",
      "source": [
        "print(f'Из {data.user_id.nunique()} пользователей в data мы имеем {data[data.timestamp == 0].user_id.nunique()} пользователей с нулевой строкой timestamp.')"
      ],
      "metadata": {
        "id": "lLY34gIT4Lqi",
        "colab": {
          "base_uri": "https://localhost:8080/"
        },
        "outputId": "510af789-f244-489a-c3df-4f63ca6be3b0"
      },
      "execution_count": 22,
      "outputs": [
        {
          "output_type": "stream",
          "name": "stdout",
          "text": [
            "Из 39491 пользователей в data мы имеем 39491 пользователей с нулевой строкой timestamp.\n"
          ]
        }
      ]
    },
    {
      "cell_type": "markdown",
      "source": [
        "Answered_correctly - это правильно отвеченные вопросы. Не глядя на взаимодействие лекций (-1), мы видим, что примерно 1/3 вопросов была отвечена неправильно."
      ],
      "metadata": {
        "id": "izdmnx3M38r6"
      }
    },
    {
      "cell_type": "code",
      "source": [
        "correct = data[data.answered_correctly != -1].answered_correctly.value_counts(ascending=True)\n",
        "\n",
        "fig = plt.figure(figsize=(12,4))\n",
        "correct.plot.barh()\n",
        "for i, v in zip(correct.index, correct.values):\n",
        "    plt.text(v, i, '{:,}'.format(v), color='white', fontweight='bold', fontsize=14, ha='right', va='center')\n",
        "plt.title(\"Вопросы отвечены правильно\")\n",
        "plt.xticks(rotation=0)\n",
        "plt.show()"
      ],
      "metadata": {
        "colab": {
          "base_uri": "https://localhost:8080/",
          "height": 295
        },
        "id": "LZSI6gab4c8n",
        "outputId": "5a7cfa39-95eb-4783-8fe1-cac3c4d64845"
      },
      "execution_count": 23,
      "outputs": [
        {
          "output_type": "display_data",
          "data": {
            "text/plain": [
              "<Figure size 864x288 with 1 Axes>"
            ],
            "image/png": "[encoded data removed]"
          },
          "metadata": {}
        }
      ]
    },
    {
      "cell_type": "markdown",
      "source": [
        "Существует ли связь между timestamp и answered_correctly? Чтобы выяснить это, я разбила на 5 частей timestamp. Как вы можете видеть, единственная заметная вещь - это то, что пользователи, которые зарегистрировались относительно недавно, работают немного хуже, чем пользователи, которые активны дольше."
      ],
      "metadata": {
        "id": "X5YoGPIu41Uz"
      }
    },
    {
      "cell_type": "code",
      "source": [
        "bin_labels_5 = ['Bin_1', 'Bin_2', 'Bin_3', 'Bin_4', 'Bin_5']\n",
        "data['ts_bin'] = pd.qcut(data['timestamp'], q=5, labels=bin_labels_5)\n",
        "\n",
        "def correct(field):\n",
        "    correct = data[data.answered_correctly != -1].groupby([field, 'answered_correctly'], as_index=False).size()\n",
        "    correct = correct.pivot(index= field, columns='answered_correctly', values='size')\n",
        "    correct['Percent_correct'] = round(correct.iloc[:,1]/(correct.iloc[:,0] + correct.iloc[:,1]),2)\n",
        "    correct = correct.sort_values(by = \"Percent_correct\", ascending = False)\n",
        "    correct = correct.iloc[:,2]\n",
        "    return(correct)\n",
        "\n",
        "bins_correct = correct(\"ts_bin\")\n",
        "bins_correct = bins_correct.sort_index()\n",
        "\n",
        "fig = plt.figure(figsize=(12,6))\n",
        "plt.bar(bins_correct.index, bins_correct.values)\n",
        "for i, v in zip(bins_correct.index, bins_correct.values):\n",
        "    plt.text(i, v, v, color='white', fontweight='bold', fontsize=14, va='top', ha='center')\n",
        "plt.title(\"Процент answered_correctly для 5 бинов timestamp\")\n",
        "plt.xticks(rotation=0)\n",
        "plt.show()"
      ],
      "metadata": {
        "colab": {
          "base_uri": "https://localhost:8080/",
          "height": 392
        },
        "id": "dRSNquEJ49EK",
        "outputId": "d2e1a0f5-880d-4038-8747-4c9d372a32bb"
      },
      "execution_count": 24,
      "outputs": [
        {
          "output_type": "display_data",
          "data": {
            "text/plain": [
              "<Figure size 864x432 with 1 Axes>"
            ],
            "image/png": "[encoded data removed]"
          },
          "metadata": {}
        }
      ]
    },
    {
      "cell_type": "markdown",
      "source": [
        "Давайте также проверим, как выглядит распределение answered_correctly, если сгруппировать по (10 000 уникальных) task_container_id."
      ],
      "metadata": {
        "id": "IIRI4-Im5lvb"
      }
    },
    {
      "cell_type": "code",
      "source": [
        "task_id_correct = correct(\"task_container_id\")\n",
        "\n",
        "fig = plt.figure(figsize=(12,6))\n",
        "task_id_correct.plot.hist(bins=40)\n",
        "plt.title(\"Гистограмма percent_correct, сгруппированная по task_container_id\")\n",
        "plt.xticks(rotation=0)\n",
        "plt.show()"
      ],
      "metadata": {
        "colab": {
          "base_uri": "https://localhost:8080/",
          "height": 391
        },
        "id": "TWvcmViU52D5",
        "outputId": "ff06c484-abef-4f27-f543-489ee8a9ddf0"
      },
      "execution_count": 25,
      "outputs": [
        {
          "output_type": "display_data",
          "data": {
            "text/plain": [
              "<Figure size 864x432 with 1 Axes>"
            ],
            "image/png": "[encoded data removed]"
          },
          "metadata": {}
        }
      ]
    },
    {
      "cell_type": "markdown",
      "source": [
        "Ниже я строю график зависимости количества ответов на каждый идентификатор пользователя от процента правильно отвеченных вопросов (выборка из 200). Поскольку некоторые пользователи ответили на огромное количество вопросов, я убрала выбросы (идентификаторы пользователей с 1000+ ответами на вопросы). Как вы можете видеть, тенденция к росту, но есть также большой разброс среди пользователей, которые ответили на небольшое количество вопросов."
      ],
      "metadata": {
        "id": "RB5X_Qx26Pph"
      }
    },
    {
      "cell_type": "code",
      "source": [
        "user_percent = data[data.answered_correctly != -1].groupby('user_id')['answered_correctly'].agg(Mean='mean', Answers='count')\n",
        "print(f'наибольшее количество вопросов, на которые ответил пользователь, равно {user_percent.Answers.max()}')"
      ],
      "metadata": {
        "colab": {
          "base_uri": "https://localhost:8080/"
        },
        "id": "fGcH2ydV6aAZ",
        "outputId": "ba0db028-36b4-41a1-c6b8-d1082379ea7c"
      },
      "execution_count": 26,
      "outputs": [
        {
          "output_type": "stream",
          "name": "stdout",
          "text": [
            "наибольшее количество вопросов, на которые ответил пользователь, равно 15562\n"
          ]
        }
      ]
    },
    {
      "cell_type": "code",
      "source": [
        "user_percent = user_percent.query('Answers <= 1000').sample(n=200, random_state=1)\n",
        "\n",
        "fig = plt.figure(figsize=(12,6))\n",
        "x = user_percent.Answers\n",
        "y = user_percent.Mean\n",
        "plt.scatter(x, y, marker='o')\n",
        "plt.title(\"Процент правильных ответов по сравнению с количеством вопросов, на которые ответил пользователь\")\n",
        "plt.xticks(rotation=0)\n",
        "plt.xlabel(\"Количество ответов на вопросы\")\n",
        "plt.ylabel(\"Процент ответивших правильно\")\n",
        "z = np.polyfit(x, y, 1)\n",
        "p = np.poly1d(z)\n",
        "plt.plot(x,p(x),\"b--\")\n",
        "\n",
        "plt.show()"
      ],
      "metadata": {
        "colab": {
          "base_uri": "https://localhost:8080/",
          "height": 408
        },
        "id": "Zbo27t_Y69rP",
        "outputId": "41d7daa1-1a1e-4665-a37d-d6194c635ff8"
      },
      "execution_count": 34,
      "outputs": [
        {
          "output_type": "display_data",
          "data": {
            "text/plain": [
              "<Figure size 864x432 with 1 Axes>"
            ],
            "image/png": "[encoded data removed]"
          },
          "metadata": {}
        }
      ]
    },
    {
      "cell_type": "markdown",
      "source": [
        "Ниже я делаю то же самое по content_id. Я снова беру выборку из 200, и убираю те content_id, в которых было задано более 15 000 вопросов. Как вы можете видеть, наблюдается тенденция к снижению."
      ],
      "metadata": {
        "id": "xWxOdcNC6ysQ"
      }
    },
    {
      "cell_type": "code",
      "source": [
        "content_percent = data[data.answered_correctly != -1].groupby('content_id')['answered_correctly'].agg(Mean='mean', Answers='count')\n",
        "print(f'Наибольшее количество вопросов, заданных по content_id, равно {content_percent.Answers.max()}.')\n",
        "print(f'Из {len(content_percent)} content_ids, {len(content_percent[content_percent.Answers > 15000])} content_ids было задано более 15 000 вопросов.')"
      ],
      "metadata": {
        "colab": {
          "base_uri": "https://localhost:8080/"
        },
        "id": "B2AbrMx87nfn",
        "outputId": "2790bb12-47f8-4c6a-ccac-9162b73fe924"
      },
      "execution_count": 29,
      "outputs": [
        {
          "output_type": "stream",
          "name": "stdout",
          "text": [
            "Наибольшее количество вопросов, заданных по content_id, равно 21103.\n",
            "Из 13500 content_ids, 26 content_ids было задано более 15 000 вопросов.\n"
          ]
        }
      ]
    },
    {
      "cell_type": "code",
      "source": [
        "content_percent = content_percent.query('Answers <= 15000').sample(n=200, random_state=1)\n",
        "\n",
        "fig = plt.figure(figsize=(12,6))\n",
        "x = content_percent.Answers\n",
        "y = content_percent.Mean\n",
        "plt.scatter(x, y, marker='o')\n",
        "plt.title(\"Процент правильных ответов в сравнении с количеством вопросов, на которые даны ответы\")\n",
        "plt.xticks(rotation=0)\n",
        "plt.xlabel(\"Количество вопросов, на которые даны ответы\")\n",
        "plt.ylabel(\"Процент ответивших правильно\")\n",
        "z = np.polyfit(x, y, 1)\n",
        "p = np.poly1d(z)\n",
        "plt.plot(x,p(x),\"b--\")\n",
        "\n",
        "plt.show()"
      ],
      "metadata": {
        "colab": {
          "base_uri": "https://localhost:8080/",
          "height": 408
        },
        "id": "ZgBUExFyGv8G",
        "outputId": "967c60f7-64f2-4711-c82c-b60d82bedb98"
      },
      "execution_count": 38,
      "outputs": [
        {
          "output_type": "display_data",
          "data": {
            "text/plain": [
              "<Figure size 864x432 with 1 Axes>"
            ],
            "image/png": "[encoded data removed]"
          },
          "metadata": {}
        }
      ]
    },
    {
      "cell_type": "markdown",
      "source": [
        "Помогает ли, если у предыдущего вопроса было объяснение? Да, как вы видите, процент правильно ответивших примерно на 17% выше, когда было объяснение. \n",
        "\n",
        "Кроме того, интересно видеть, что процент правильно ответивших на вопросы с отсутствующими значениями ближе к True, чем к False."
      ],
      "metadata": {
        "id": "Jyd4jUDgHW3E"
      }
    },
    {
      "cell_type": "code",
      "source": [
        "pq = data[data.answered_correctly != -1].groupby(['prior_question_had_explanation'], dropna=False).agg({'answered_correctly': ['mean', 'count']})\n",
        "#pq.index = pq.index.astype(str)\n",
        "print(pq.iloc[:,1])\n",
        "pq = pq.iloc[:,0]\n",
        "\n",
        "fig = plt.figure(figsize=(12,4))\n",
        "pq.plot.barh()\n",
        "# for i, v in zip(pq.index, pq.values):\n",
        "# plt.text(v, i, round(v,2), color='white', fontweight='bold', fontsize=14, ha='right', va='center')\n",
        "plt.title(\"Answered_correctly против Prior Question had explanation\")\n",
        "plt.xlabel(\"Процент ответивших правильно\")\n",
        "plt.ylabel(\"Предыдущий вопрос имел объяснение\")\n",
        "plt.xticks(rotation=0)\n",
        "plt.show()"
      ],
      "metadata": {
        "colab": {
          "base_uri": "https://localhost:8080/",
          "height": 386
        },
        "id": "jqCh3nMwIStT",
        "outputId": "d080d9c2-b619-4a27-ece9-b6bf13758a52"
      },
      "execution_count": 36,
      "outputs": [
        {
          "output_type": "stream",
          "name": "stdout",
          "text": [
            "prior_question_had_explanation\n",
            "False     909661\n",
            "True     8855555\n",
            "NaN        39388\n",
            "Name: (answered_correctly, count), dtype: int64\n"
          ]
        },
        {
          "output_type": "display_data",
          "data": {
            "text/plain": [
              "<Figure size 864x288 with 1 Axes>"
            ],
            "image/png": "[encoded data removed]"
          },
          "metadata": {}
        }
      ]
    },
    {
      "cell_type": "markdown",
      "source": [
        "prior_question_elapsed_time: (float32) Среднее время в миллисекундах, которое потребовалось пользователю для ответа на каждый вопрос в предыдущей части вопросов, без учета всех лекций между ними. Является нулевым для первой части вопросов или лекции пользователя. Обратите внимание, что время - это среднее время, затраченное пользователем на решение каждого вопроса в предыдущей части.\n",
        "\n",
        "На первый взгляд, это не очень интересно. Как для неправильных, так и для правильных ответов среднее значение составляет около 25 секунд."
      ],
      "metadata": {
        "id": "r2sp5HW8Iw-9"
      }
    },
    {
      "cell_type": "code",
      "source": [
        "pq = data[data.answered_correctly != -1]\n",
        "pq = pq[['prior_question_elapsed_time', 'answered_correctly']]\n",
        "pq = pq.groupby(['answered_correctly']).agg({'answered_correctly': ['count'], 'prior_question_elapsed_time': ['mean']})\n",
        "\n",
        "pq"
      ],
      "metadata": {
        "colab": {
          "base_uri": "https://localhost:8080/",
          "height": 175
        },
        "id": "y0Vga2Y2JQ3Y",
        "outputId": "a429d890-e658-4241-8b25-b87421dd0d98"
      },
      "execution_count": 39,
      "outputs": [
        {
          "output_type": "execute_result",
          "data": {
            "text/plain": [
              "                   answered_correctly prior_question_elapsed_time\n",
              "                                count                        mean\n",
              "answered_correctly                                               \n",
              "0                             3347179                25704.232422\n",
              "1                             6457425                25357.035156"
            ],
            "text/html": [
              "\n",
              "  <div id=\"df-33557dda-cf8a-450b-b73d-773df6f1a916\">\n",
              "    <div class=\"colab-df-container\">\n",
              "      <div>\n",
              "<style scoped>\n",
              "    .dataframe tbody tr th:only-of-type {\n",
              "        vertical-align: middle;\n",
              "    }\n",
              "\n",
              "    .dataframe tbody tr th {\n",
              "        vertical-align: top;\n",
              "    }\n",
              "\n",
              "    .dataframe thead tr th {\n",
              "        text-align: left;\n",
              "    }\n",
              "\n",
              "    .dataframe thead tr:last-of-type th {\n",
              "        text-align: right;\n",
              "    }\n",
              "</style>\n",
              "<table border=\"1\" class=\"dataframe\">\n",
              "  <thead>\n",
              "    <tr>\n",
              "      <th></th>\n",
              "      <th>answered_correctly</th>\n",
              "      <th>prior_question_elapsed_time</th>\n",
              "    </tr>\n",
              "    <tr>\n",
              "      <th></th>\n",
              "      <th>count</th>\n",
              "      <th>mean</th>\n",
              "    </tr>\n",
              "    <tr>\n",
              "      <th>answered_correctly</th>\n",
              "      <th></th>\n",
              "      <th></th>\n",
              "    </tr>\n",
              "  </thead>\n",
              "  <tbody>\n",
              "    <tr>\n",
              "      <th>0</th>\n",
              "      <td>3347179</td>\n",
              "      <td>25704.232422</td>\n",
              "    </tr>\n",
              "    <tr>\n",
              "      <th>1</th>\n",
              "      <td>6457425</td>\n",
              "      <td>25357.035156</td>\n",
              "    </tr>\n",
              "  </tbody>\n",
              "</table>\n",
              "</div>\n",
              "      <button class=\"colab-df-convert\" onclick=\"convertToInteractive('df-33557dda-cf8a-450b-b73d-773df6f1a916')\"\n",
              "              title=\"Convert this dataframe to an interactive table.\"\n",
              "              style=\"display:none;\">\n",
              "        \n",
              "  <svg xmlns=\"http://www.w3.org/2000/svg\" height=\"24px\"viewBox=\"0 0 24 24\"\n",
              "       width=\"24px\">\n",
              "    <path d=\"M0 0h24v24H0V0z\" fill=\"none\"/>\n",
              "    <path d=\"M18.56 5.44l.94 2.06.94-2.06 2.06-.94-2.06-.94-.94-2.06-.94 2.06-2.06.94zm-11 1L8.5 8.5l.94-2.06 2.06-.94-2.06-.94L8.5 2.5l-.94 2.06-2.06.94zm10 10l.94 2.06.94-2.06 2.06-.94-2.06-.94-.94-2.06-.94 2.06-2.06.94z\"/><path d=\"M17.41 7.96l-1.37-1.37c-.4-.4-.92-.59-1.43-.59-.52 0-1.04.2-1.43.59L10.3 9.45l-7.72 7.72c-.78.78-.78 2.05 0 2.83L4 21.41c.39.39.9.59 1.41.59.51 0 1.02-.2 1.41-.59l7.78-7.78 2.81-2.81c.8-.78.8-2.07 0-2.86zM5.41 20L4 18.59l7.72-7.72 1.47 1.35L5.41 20z\"/>\n",
              "  </svg>\n",
              "      </button>\n",
              "      \n",
              "  <style>\n",
              "    .colab-df-container {\n",
              "      display:flex;\n",
              "      flex-wrap:wrap;\n",
              "      gap: 12px;\n",
              "    }\n",
              "\n",
              "    .colab-df-convert {\n",
              "      background-color: #E8F0FE;\n",
              "      border: none;\n",
              "      border-radius: 50%;\n",
              "      cursor: pointer;\n",
              "      display: none;\n",
              "      fill: #1967D2;\n",
              "      height: 32px;\n",
              "      padding: 0 0 0 0;\n",
              "      width: 32px;\n",
              "    }\n",
              "\n",
              "    .colab-df-convert:hover {\n",
              "      background-color: #E2EBFA;\n",
              "      box-shadow: 0px 1px 2px rgba(60, 64, 67, 0.3), 0px 1px 3px 1px rgba(60, 64, 67, 0.15);\n",
              "      fill: #174EA6;\n",
              "    }\n",
              "\n",
              "    [theme=dark] .colab-df-convert {\n",
              "      background-color: #3B4455;\n",
              "      fill: #D2E3FC;\n",
              "    }\n",
              "\n",
              "    [theme=dark] .colab-df-convert:hover {\n",
              "      background-color: #434B5C;\n",
              "      box-shadow: 0px 1px 3px 1px rgba(0, 0, 0, 0.15);\n",
              "      filter: drop-shadow(0px 1px 2px rgba(0, 0, 0, 0.3));\n",
              "      fill: #FFFFFF;\n",
              "    }\n",
              "  </style>\n",
              "\n",
              "      <script>\n",
              "        const buttonEl =\n",
              "          document.querySelector('#df-33557dda-cf8a-450b-b73d-773df6f1a916 button.colab-df-convert');\n",
              "        buttonEl.style.display =\n",
              "          google.colab.kernel.accessAllowed ? 'block' : 'none';\n",
              "\n",
              "        async function convertToInteractive(key) {\n",
              "          const element = document.querySelector('#df-33557dda-cf8a-450b-b73d-773df6f1a916');\n",
              "          const dataTable =\n",
              "            await google.colab.kernel.invokeFunction('convertToInteractive',\n",
              "                                                     [key], {});\n",
              "          if (!dataTable) return;\n",
              "\n",
              "          const docLinkHtml = 'Like what you see? Visit the ' +\n",
              "            '<a target=\"_blank\" href=https://colab.research.google.com/notebooks/data_table.ipynb>data table notebook</a>'\n",
              "            + ' to learn more about interactive tables.';\n",
              "          element.innerHTML = '';\n",
              "          dataTable['output_type'] = 'display_data';\n",
              "          await google.colab.output.renderOutput(dataTable, element);\n",
              "          const docLink = document.createElement('div');\n",
              "          docLink.innerHTML = docLinkHtml;\n",
              "          element.appendChild(docLink);\n",
              "        }\n",
              "      </script>\n",
              "    </div>\n",
              "  </div>\n",
              "  "
            ]
          },
          "metadata": {},
          "execution_count": 39
        }
      ]
    },
    {
      "cell_type": "markdown",
      "source": [
        "Анализ таблицы с вопросами"
      ],
      "metadata": {
        "id": "xB8b5QuQTY2x"
      }
    },
    {
      "cell_type": "code",
      "source": [
        "questions.head()"
      ],
      "metadata": {
        "colab": {
          "base_uri": "https://localhost:8080/",
          "height": 206
        },
        "id": "uYPvvmHhJtQY",
        "outputId": "253ad0c9-32d6-4c48-eb38-70ca0092bfa8"
      },
      "execution_count": 40,
      "outputs": [
        {
          "output_type": "execute_result",
          "data": {
            "text/plain": [
              "   question_id  bundle_id  correct_answer  part            tags\n",
              "0            0          0               0     1   51 131 162 38\n",
              "1            1          1               1     1       131 36 81\n",
              "2            2          2               0     1  131 101 162 92\n",
              "3            3          3               0     1  131 149 162 29\n",
              "4            4          4               3     1    131 5 162 38"
            ],
            "text/html": [
              "\n",
              "  <div id=\"df-b6fadc43-a131-47ba-afb4-a5e2e1b86a55\">\n",
              "    <div class=\"colab-df-container\">\n",
              "      <div>\n",
              "<style scoped>\n",
              "    .dataframe tbody tr th:only-of-type {\n",
              "        vertical-align: middle;\n",
              "    }\n",
              "\n",
              "    .dataframe tbody tr th {\n",
              "        vertical-align: top;\n",
              "    }\n",
              "\n",
              "    .dataframe thead th {\n",
              "        text-align: right;\n",
              "    }\n",
              "</style>\n",
              "<table border=\"1\" class=\"dataframe\">\n",
              "  <thead>\n",
              "    <tr style=\"text-align: right;\">\n",
              "      <th></th>\n",
              "      <th>question_id</th>\n",
              "      <th>bundle_id</th>\n",
              "      <th>correct_answer</th>\n",
              "      <th>part</th>\n",
              "      <th>tags</th>\n",
              "    </tr>\n",
              "  </thead>\n",
              "  <tbody>\n",
              "    <tr>\n",
              "      <th>0</th>\n",
              "      <td>0</td>\n",
              "      <td>0</td>\n",
              "      <td>0</td>\n",
              "      <td>1</td>\n",
              "      <td>51 131 162 38</td>\n",
              "    </tr>\n",
              "    <tr>\n",
              "      <th>1</th>\n",
              "      <td>1</td>\n",
              "      <td>1</td>\n",
              "      <td>1</td>\n",
              "      <td>1</td>\n",
              "      <td>131 36 81</td>\n",
              "    </tr>\n",
              "    <tr>\n",
              "      <th>2</th>\n",
              "      <td>2</td>\n",
              "      <td>2</td>\n",
              "      <td>0</td>\n",
              "      <td>1</td>\n",
              "      <td>131 101 162 92</td>\n",
              "    </tr>\n",
              "    <tr>\n",
              "      <th>3</th>\n",
              "      <td>3</td>\n",
              "      <td>3</td>\n",
              "      <td>0</td>\n",
              "      <td>1</td>\n",
              "      <td>131 149 162 29</td>\n",
              "    </tr>\n",
              "    <tr>\n",
              "      <th>4</th>\n",
              "      <td>4</td>\n",
              "      <td>4</td>\n",
              "      <td>3</td>\n",
              "      <td>1</td>\n",
              "      <td>131 5 162 38</td>\n",
              "    </tr>\n",
              "  </tbody>\n",
              "</table>\n",
              "</div>\n",
              "      <button class=\"colab-df-convert\" onclick=\"convertToInteractive('df-b6fadc43-a131-47ba-afb4-a5e2e1b86a55')\"\n",
              "              title=\"Convert this dataframe to an interactive table.\"\n",
              "              style=\"display:none;\">\n",
              "        \n",
              "  <svg xmlns=\"http://www.w3.org/2000/svg\" height=\"24px\"viewBox=\"0 0 24 24\"\n",
              "       width=\"24px\">\n",
              "    <path d=\"M0 0h24v24H0V0z\" fill=\"none\"/>\n",
              "    <path d=\"M18.56 5.44l.94 2.06.94-2.06 2.06-.94-2.06-.94-.94-2.06-.94 2.06-2.06.94zm-11 1L8.5 8.5l.94-2.06 2.06-.94-2.06-.94L8.5 2.5l-.94 2.06-2.06.94zm10 10l.94 2.06.94-2.06 2.06-.94-2.06-.94-.94-2.06-.94 2.06-2.06.94z\"/><path d=\"M17.41 7.96l-1.37-1.37c-.4-.4-.92-.59-1.43-.59-.52 0-1.04.2-1.43.59L10.3 9.45l-7.72 7.72c-.78.78-.78 2.05 0 2.83L4 21.41c.39.39.9.59 1.41.59.51 0 1.02-.2 1.41-.59l7.78-7.78 2.81-2.81c.8-.78.8-2.07 0-2.86zM5.41 20L4 18.59l7.72-7.72 1.47 1.35L5.41 20z\"/>\n",
              "  </svg>\n",
              "      </button>\n",
              "      \n",
              "  <style>\n",
              "    .colab-df-container {\n",
              "      display:flex;\n",
              "      flex-wrap:wrap;\n",
              "      gap: 12px;\n",
              "    }\n",
              "\n",
              "    .colab-df-convert {\n",
              "      background-color: #E8F0FE;\n",
              "      border: none;\n",
              "      border-radius: 50%;\n",
              "      cursor: pointer;\n",
              "      display: none;\n",
              "      fill: #1967D2;\n",
              "      height: 32px;\n",
              "      padding: 0 0 0 0;\n",
              "      width: 32px;\n",
              "    }\n",
              "\n",
              "    .colab-df-convert:hover {\n",
              "      background-color: #E2EBFA;\n",
              "      box-shadow: 0px 1px 2px rgba(60, 64, 67, 0.3), 0px 1px 3px 1px rgba(60, 64, 67, 0.15);\n",
              "      fill: #174EA6;\n",
              "    }\n",
              "\n",
              "    [theme=dark] .colab-df-convert {\n",
              "      background-color: #3B4455;\n",
              "      fill: #D2E3FC;\n",
              "    }\n",
              "\n",
              "    [theme=dark] .colab-df-convert:hover {\n",
              "      background-color: #434B5C;\n",
              "      box-shadow: 0px 1px 3px 1px rgba(0, 0, 0, 0.15);\n",
              "      filter: drop-shadow(0px 1px 2px rgba(0, 0, 0, 0.3));\n",
              "      fill: #FFFFFF;\n",
              "    }\n",
              "  </style>\n",
              "\n",
              "      <script>\n",
              "        const buttonEl =\n",
              "          document.querySelector('#df-b6fadc43-a131-47ba-afb4-a5e2e1b86a55 button.colab-df-convert');\n",
              "        buttonEl.style.display =\n",
              "          google.colab.kernel.accessAllowed ? 'block' : 'none';\n",
              "\n",
              "        async function convertToInteractive(key) {\n",
              "          const element = document.querySelector('#df-b6fadc43-a131-47ba-afb4-a5e2e1b86a55');\n",
              "          const dataTable =\n",
              "            await google.colab.kernel.invokeFunction('convertToInteractive',\n",
              "                                                     [key], {});\n",
              "          if (!dataTable) return;\n",
              "\n",
              "          const docLinkHtml = 'Like what you see? Visit the ' +\n",
              "            '<a target=\"_blank\" href=https://colab.research.google.com/notebooks/data_table.ipynb>data table notebook</a>'\n",
              "            + ' to learn more about interactive tables.';\n",
              "          element.innerHTML = '';\n",
              "          dataTable['output_type'] = 'display_data';\n",
              "          await google.colab.output.renderOutput(dataTable, element);\n",
              "          const docLink = document.createElement('div');\n",
              "          docLink.innerHTML = docLinkHtml;\n",
              "          element.appendChild(docLink);\n",
              "        }\n",
              "      </script>\n",
              "    </div>\n",
              "  </div>\n",
              "  "
            ]
          },
          "metadata": {},
          "execution_count": 40
        }
      ]
    },
    {
      "cell_type": "code",
      "source": [
        "questions.info()"
      ],
      "metadata": {
        "colab": {
          "base_uri": "https://localhost:8080/"
        },
        "id": "Bjr0k6oZTdsR",
        "outputId": "30760c70-6ad2-449a-af2c-688b52206a74"
      },
      "execution_count": 41,
      "outputs": [
        {
          "output_type": "stream",
          "name": "stdout",
          "text": [
            "<class 'pandas.core.frame.DataFrame'>\n",
            "RangeIndex: 13523 entries, 0 to 13522\n",
            "Data columns (total 5 columns):\n",
            " #   Column          Non-Null Count  Dtype \n",
            "---  ------          --------------  ----- \n",
            " 0   question_id     13523 non-null  int64 \n",
            " 1   bundle_id       13523 non-null  int64 \n",
            " 2   correct_answer  13523 non-null  int64 \n",
            " 3   part            13523 non-null  int64 \n",
            " 4   tags            13522 non-null  object\n",
            "dtypes: int64(4), object(1)\n",
            "memory usage: 528.4+ KB\n"
          ]
        }
      ]
    },
    {
      "cell_type": "markdown",
      "source": [
        "Таблица состоит из 13523 строк и 5 колонок."
      ],
      "metadata": {
        "id": "sl5eqjDp487M"
      }
    },
    {
      "cell_type": "code",
      "source": [
        "questions.isna().sum()"
      ],
      "metadata": {
        "colab": {
          "base_uri": "https://localhost:8080/"
        },
        "id": "wXpZkF4PYi5C",
        "outputId": "a4cbe521-a8f0-4524-99a7-36e482a15148"
      },
      "execution_count": 42,
      "outputs": [
        {
          "output_type": "execute_result",
          "data": {
            "text/plain": [
              "question_id       0\n",
              "bundle_id         0\n",
              "correct_answer    0\n",
              "part              0\n",
              "tags              1\n",
              "dtype: int64"
            ]
          },
          "metadata": {},
          "execution_count": 42
        }
      ]
    },
    {
      "cell_type": "markdown",
      "source": [
        "Теги кажутся мне ценными. Сначала давайте проверим, есть ли вопросы без тегов. Как видите, есть ровно один question_id без тега."
      ],
      "metadata": {
        "id": "iWZx75FxJ-To"
      }
    },
    {
      "cell_type": "code",
      "source": [
        "questions[questions.tags.isna()]"
      ],
      "metadata": {
        "colab": {
          "base_uri": "https://localhost:8080/",
          "height": 81
        },
        "id": "79vJJCxHJ3PI",
        "outputId": "7b37abff-2e2b-40ed-e67c-d9f55dcc27f9"
      },
      "execution_count": 43,
      "outputs": [
        {
          "output_type": "execute_result",
          "data": {
            "text/plain": [
              "       question_id  bundle_id  correct_answer  part tags\n",
              "10033        10033      10033               2     6  NaN"
            ],
            "text/html": [
              "\n",
              "  <div id=\"df-50f12e09-5626-4758-a88f-ba6f73705b64\">\n",
              "    <div class=\"colab-df-container\">\n",
              "      <div>\n",
              "<style scoped>\n",
              "    .dataframe tbody tr th:only-of-type {\n",
              "        vertical-align: middle;\n",
              "    }\n",
              "\n",
              "    .dataframe tbody tr th {\n",
              "        vertical-align: top;\n",
              "    }\n",
              "\n",
              "    .dataframe thead th {\n",
              "        text-align: right;\n",
              "    }\n",
              "</style>\n",
              "<table border=\"1\" class=\"dataframe\">\n",
              "  <thead>\n",
              "    <tr style=\"text-align: right;\">\n",
              "      <th></th>\n",
              "      <th>question_id</th>\n",
              "      <th>bundle_id</th>\n",
              "      <th>correct_answer</th>\n",
              "      <th>part</th>\n",
              "      <th>tags</th>\n",
              "    </tr>\n",
              "  </thead>\n",
              "  <tbody>\n",
              "    <tr>\n",
              "      <th>10033</th>\n",
              "      <td>10033</td>\n",
              "      <td>10033</td>\n",
              "      <td>2</td>\n",
              "      <td>6</td>\n",
              "      <td>NaN</td>\n",
              "    </tr>\n",
              "  </tbody>\n",
              "</table>\n",
              "</div>\n",
              "      <button class=\"colab-df-convert\" onclick=\"convertToInteractive('df-50f12e09-5626-4758-a88f-ba6f73705b64')\"\n",
              "              title=\"Convert this dataframe to an interactive table.\"\n",
              "              style=\"display:none;\">\n",
              "        \n",
              "  <svg xmlns=\"http://www.w3.org/2000/svg\" height=\"24px\"viewBox=\"0 0 24 24\"\n",
              "       width=\"24px\">\n",
              "    <path d=\"M0 0h24v24H0V0z\" fill=\"none\"/>\n",
              "    <path d=\"M18.56 5.44l.94 2.06.94-2.06 2.06-.94-2.06-.94-.94-2.06-.94 2.06-2.06.94zm-11 1L8.5 8.5l.94-2.06 2.06-.94-2.06-.94L8.5 2.5l-.94 2.06-2.06.94zm10 10l.94 2.06.94-2.06 2.06-.94-2.06-.94-.94-2.06-.94 2.06-2.06.94z\"/><path d=\"M17.41 7.96l-1.37-1.37c-.4-.4-.92-.59-1.43-.59-.52 0-1.04.2-1.43.59L10.3 9.45l-7.72 7.72c-.78.78-.78 2.05 0 2.83L4 21.41c.39.39.9.59 1.41.59.51 0 1.02-.2 1.41-.59l7.78-7.78 2.81-2.81c.8-.78.8-2.07 0-2.86zM5.41 20L4 18.59l7.72-7.72 1.47 1.35L5.41 20z\"/>\n",
              "  </svg>\n",
              "      </button>\n",
              "      \n",
              "  <style>\n",
              "    .colab-df-container {\n",
              "      display:flex;\n",
              "      flex-wrap:wrap;\n",
              "      gap: 12px;\n",
              "    }\n",
              "\n",
              "    .colab-df-convert {\n",
              "      background-color: #E8F0FE;\n",
              "      border: none;\n",
              "      border-radius: 50%;\n",
              "      cursor: pointer;\n",
              "      display: none;\n",
              "      fill: #1967D2;\n",
              "      height: 32px;\n",
              "      padding: 0 0 0 0;\n",
              "      width: 32px;\n",
              "    }\n",
              "\n",
              "    .colab-df-convert:hover {\n",
              "      background-color: #E2EBFA;\n",
              "      box-shadow: 0px 1px 2px rgba(60, 64, 67, 0.3), 0px 1px 3px 1px rgba(60, 64, 67, 0.15);\n",
              "      fill: #174EA6;\n",
              "    }\n",
              "\n",
              "    [theme=dark] .colab-df-convert {\n",
              "      background-color: #3B4455;\n",
              "      fill: #D2E3FC;\n",
              "    }\n",
              "\n",
              "    [theme=dark] .colab-df-convert:hover {\n",
              "      background-color: #434B5C;\n",
              "      box-shadow: 0px 1px 3px 1px rgba(0, 0, 0, 0.15);\n",
              "      filter: drop-shadow(0px 1px 2px rgba(0, 0, 0, 0.3));\n",
              "      fill: #FFFFFF;\n",
              "    }\n",
              "  </style>\n",
              "\n",
              "      <script>\n",
              "        const buttonEl =\n",
              "          document.querySelector('#df-50f12e09-5626-4758-a88f-ba6f73705b64 button.colab-df-convert');\n",
              "        buttonEl.style.display =\n",
              "          google.colab.kernel.accessAllowed ? 'block' : 'none';\n",
              "\n",
              "        async function convertToInteractive(key) {\n",
              "          const element = document.querySelector('#df-50f12e09-5626-4758-a88f-ba6f73705b64');\n",
              "          const dataTable =\n",
              "            await google.colab.kernel.invokeFunction('convertToInteractive',\n",
              "                                                     [key], {});\n",
              "          if (!dataTable) return;\n",
              "\n",
              "          const docLinkHtml = 'Like what you see? Visit the ' +\n",
              "            '<a target=\"_blank\" href=https://colab.research.google.com/notebooks/data_table.ipynb>data table notebook</a>'\n",
              "            + ' to learn more about interactive tables.';\n",
              "          element.innerHTML = '';\n",
              "          dataTable['output_type'] = 'display_data';\n",
              "          await google.colab.output.renderOutput(dataTable, element);\n",
              "          const docLink = document.createElement('div');\n",
              "          docLink.innerHTML = docLinkHtml;\n",
              "          element.appendChild(docLink);\n",
              "        }\n",
              "      </script>\n",
              "    </div>\n",
              "  </div>\n",
              "  "
            ]
          },
          "metadata": {},
          "execution_count": 43
        }
      ]
    },
    {
      "cell_type": "code",
      "source": [
        "questions['tags'] = questions['tags'].astype(str)\n",
        "\n",
        "tags = [x.split() for x in questions[questions.tags != \"nan\"].tags.values]\n",
        "tags = [item for elem in tags for item in elem]\n",
        "tags = set(tags)\n",
        "tags = list(tags)\n",
        "print(f'Есть {len(tags)} различных тегов')"
      ],
      "metadata": {
        "colab": {
          "base_uri": "https://localhost:8080/"
        },
        "id": "m-CSvhszKze-",
        "outputId": "b0c9acc4-cc5d-487e-f4a3-09809798e89c"
      },
      "execution_count": 44,
      "outputs": [
        {
          "output_type": "stream",
          "name": "stdout",
          "text": [
            "Есть 188 различных тегов\n"
          ]
        }
      ]
    },
    {
      "cell_type": "markdown",
      "source": [
        "Давайте выясним, сколько ответов было правильных и неправильных на question_id (то есть на content_id в data)."
      ],
      "metadata": {
        "id": "3zS9H3SZKtme"
      }
    },
    {
      "cell_type": "code",
      "source": [
        "tags_list = [x.split() for x in questions.tags.values]\n",
        "questions['tags'] = tags_list\n",
        "questions.head()\n",
        "\n",
        "correct = data[data.answered_correctly != -1].groupby([\"content_id\", 'answered_correctly'], as_index=False).size()\n",
        "correct = correct.pivot(index= \"content_id\", columns='answered_correctly', values='size')\n",
        "correct.columns = ['Wrong', 'Right']\n",
        "correct = correct.fillna(0)\n",
        "correct[['Wrong', 'Right']] = correct[['Wrong', 'Right']].astype(int)\n",
        "questions = questions.merge(correct, left_on = \"question_id\", right_on = \"content_id\", how = \"left\")\n",
        "questions.head()"
      ],
      "metadata": {
        "colab": {
          "base_uri": "https://localhost:8080/",
          "height": 206
        },
        "id": "3o9EGF8BLNt2",
        "outputId": "d9fe7e1d-779f-49b2-98d2-2cad7d737bc3"
      },
      "execution_count": 45,
      "outputs": [
        {
          "output_type": "execute_result",
          "data": {
            "text/plain": [
              "   question_id  bundle_id  correct_answer  part                 tags   Wrong  \\\n",
              "0            0          0               0     1   [51, 131, 162, 38]    63.0   \n",
              "1            1          1               1     1        [131, 36, 81]    77.0   \n",
              "2            2          2               0     1  [131, 101, 162, 92]  1970.0   \n",
              "3            3          3               0     1  [131, 149, 162, 29]   500.0   \n",
              "4            4          4               3     1    [131, 5, 162, 38]  1173.0   \n",
              "\n",
              "    Right  \n",
              "0   628.0  \n",
              "1   649.0  \n",
              "2  2531.0  \n",
              "3  1776.0  \n",
              "4  1980.0  "
            ],
            "text/html": [
              "\n",
              "  <div id=\"df-33789363-5477-40eb-8e87-1adcbf77b259\">\n",
              "    <div class=\"colab-df-container\">\n",
              "      <div>\n",
              "<style scoped>\n",
              "    .dataframe tbody tr th:only-of-type {\n",
              "        vertical-align: middle;\n",
              "    }\n",
              "\n",
              "    .dataframe tbody tr th {\n",
              "        vertical-align: top;\n",
              "    }\n",
              "\n",
              "    .dataframe thead th {\n",
              "        text-align: right;\n",
              "    }\n",
              "</style>\n",
              "<table border=\"1\" class=\"dataframe\">\n",
              "  <thead>\n",
              "    <tr style=\"text-align: right;\">\n",
              "      <th></th>\n",
              "      <th>question_id</th>\n",
              "      <th>bundle_id</th>\n",
              "      <th>correct_answer</th>\n",
              "      <th>part</th>\n",
              "      <th>tags</th>\n",
              "      <th>Wrong</th>\n",
              "      <th>Right</th>\n",
              "    </tr>\n",
              "  </thead>\n",
              "  <tbody>\n",
              "    <tr>\n",
              "      <th>0</th>\n",
              "      <td>0</td>\n",
              "      <td>0</td>\n",
              "      <td>0</td>\n",
              "      <td>1</td>\n",
              "      <td>[51, 131, 162, 38]</td>\n",
              "      <td>63.0</td>\n",
              "      <td>628.0</td>\n",
              "    </tr>\n",
              "    <tr>\n",
              "      <th>1</th>\n",
              "      <td>1</td>\n",
              "      <td>1</td>\n",
              "      <td>1</td>\n",
              "      <td>1</td>\n",
              "      <td>[131, 36, 81]</td>\n",
              "      <td>77.0</td>\n",
              "      <td>649.0</td>\n",
              "    </tr>\n",
              "    <tr>\n",
              "      <th>2</th>\n",
              "      <td>2</td>\n",
              "      <td>2</td>\n",
              "      <td>0</td>\n",
              "      <td>1</td>\n",
              "      <td>[131, 101, 162, 92]</td>\n",
              "      <td>1970.0</td>\n",
              "      <td>2531.0</td>\n",
              "    </tr>\n",
              "    <tr>\n",
              "      <th>3</th>\n",
              "      <td>3</td>\n",
              "      <td>3</td>\n",
              "      <td>0</td>\n",
              "      <td>1</td>\n",
              "      <td>[131, 149, 162, 29]</td>\n",
              "      <td>500.0</td>\n",
              "      <td>1776.0</td>\n",
              "    </tr>\n",
              "    <tr>\n",
              "      <th>4</th>\n",
              "      <td>4</td>\n",
              "      <td>4</td>\n",
              "      <td>3</td>\n",
              "      <td>1</td>\n",
              "      <td>[131, 5, 162, 38]</td>\n",
              "      <td>1173.0</td>\n",
              "      <td>1980.0</td>\n",
              "    </tr>\n",
              "  </tbody>\n",
              "</table>\n",
              "</div>\n",
              "      <button class=\"colab-df-convert\" onclick=\"convertToInteractive('df-33789363-5477-40eb-8e87-1adcbf77b259')\"\n",
              "              title=\"Convert this dataframe to an interactive table.\"\n",
              "              style=\"display:none;\">\n",
              "        \n",
              "  <svg xmlns=\"http://www.w3.org/2000/svg\" height=\"24px\"viewBox=\"0 0 24 24\"\n",
              "       width=\"24px\">\n",
              "    <path d=\"M0 0h24v24H0V0z\" fill=\"none\"/>\n",
              "    <path d=\"M18.56 5.44l.94 2.06.94-2.06 2.06-.94-2.06-.94-.94-2.06-.94 2.06-2.06.94zm-11 1L8.5 8.5l.94-2.06 2.06-.94-2.06-.94L8.5 2.5l-.94 2.06-2.06.94zm10 10l.94 2.06.94-2.06 2.06-.94-2.06-.94-.94-2.06-.94 2.06-2.06.94z\"/><path d=\"M17.41 7.96l-1.37-1.37c-.4-.4-.92-.59-1.43-.59-.52 0-1.04.2-1.43.59L10.3 9.45l-7.72 7.72c-.78.78-.78 2.05 0 2.83L4 21.41c.39.39.9.59 1.41.59.51 0 1.02-.2 1.41-.59l7.78-7.78 2.81-2.81c.8-.78.8-2.07 0-2.86zM5.41 20L4 18.59l7.72-7.72 1.47 1.35L5.41 20z\"/>\n",
              "  </svg>\n",
              "      </button>\n",
              "      \n",
              "  <style>\n",
              "    .colab-df-container {\n",
              "      display:flex;\n",
              "      flex-wrap:wrap;\n",
              "      gap: 12px;\n",
              "    }\n",
              "\n",
              "    .colab-df-convert {\n",
              "      background-color: #E8F0FE;\n",
              "      border: none;\n",
              "      border-radius: 50%;\n",
              "      cursor: pointer;\n",
              "      display: none;\n",
              "      fill: #1967D2;\n",
              "      height: 32px;\n",
              "      padding: 0 0 0 0;\n",
              "      width: 32px;\n",
              "    }\n",
              "\n",
              "    .colab-df-convert:hover {\n",
              "      background-color: #E2EBFA;\n",
              "      box-shadow: 0px 1px 2px rgba(60, 64, 67, 0.3), 0px 1px 3px 1px rgba(60, 64, 67, 0.15);\n",
              "      fill: #174EA6;\n",
              "    }\n",
              "\n",
              "    [theme=dark] .colab-df-convert {\n",
              "      background-color: #3B4455;\n",
              "      fill: #D2E3FC;\n",
              "    }\n",
              "\n",
              "    [theme=dark] .colab-df-convert:hover {\n",
              "      background-color: #434B5C;\n",
              "      box-shadow: 0px 1px 3px 1px rgba(0, 0, 0, 0.15);\n",
              "      filter: drop-shadow(0px 1px 2px rgba(0, 0, 0, 0.3));\n",
              "      fill: #FFFFFF;\n",
              "    }\n",
              "  </style>\n",
              "\n",
              "      <script>\n",
              "        const buttonEl =\n",
              "          document.querySelector('#df-33789363-5477-40eb-8e87-1adcbf77b259 button.colab-df-convert');\n",
              "        buttonEl.style.display =\n",
              "          google.colab.kernel.accessAllowed ? 'block' : 'none';\n",
              "\n",
              "        async function convertToInteractive(key) {\n",
              "          const element = document.querySelector('#df-33789363-5477-40eb-8e87-1adcbf77b259');\n",
              "          const dataTable =\n",
              "            await google.colab.kernel.invokeFunction('convertToInteractive',\n",
              "                                                     [key], {});\n",
              "          if (!dataTable) return;\n",
              "\n",
              "          const docLinkHtml = 'Like what you see? Visit the ' +\n",
              "            '<a target=\"_blank\" href=https://colab.research.google.com/notebooks/data_table.ipynb>data table notebook</a>'\n",
              "            + ' to learn more about interactive tables.';\n",
              "          element.innerHTML = '';\n",
              "          dataTable['output_type'] = 'display_data';\n",
              "          await google.colab.output.renderOutput(dataTable, element);\n",
              "          const docLink = document.createElement('div');\n",
              "          docLink.innerHTML = docLinkHtml;\n",
              "          element.appendChild(docLink);\n",
              "        }\n",
              "      </script>\n",
              "    </div>\n",
              "  </div>\n",
              "  "
            ]
          },
          "metadata": {},
          "execution_count": 45
        }
      ]
    },
    {
      "cell_type": "markdown",
      "source": [
        "Теперь я могу сложить все неправильные и правильные ответы для всех вопросов, помеченных определенным тегом, и рассчитать процент правильных ответов для каждого тега. Обратите внимание, что существует \"двойной подсчет\" вопросов: например, если вопрос имеет 5 тегов, его ответы суммируются в итоговых суммах по каждому из 5 тегов."
      ],
      "metadata": {
        "id": "KsL9tQNULsL8"
      }
    },
    {
      "cell_type": "code",
      "source": [
        "tags_df = pd.DataFrame()\n",
        "for x in range(len(tags)):\n",
        "    df = questions[questions.tags.apply(lambda l: tags[x] in l)]\n",
        "    df1 = df.agg({'Wrong': ['sum'], 'Right': ['sum']})\n",
        "    df1['Total_questions'] = df1.Wrong + df1.Right\n",
        "    df1['Question_ids_with_tag'] = len(df)\n",
        "    df1['tag'] = tags[x]\n",
        "    df1 = df1.set_index('tag')\n",
        "    tags_df = tags_df.append(df1)\n",
        "\n",
        "tags_df[['Wrong', 'Right', 'Total_questions']] = tags_df[['Wrong', 'Right', 'Total_questions']].astype(int)\n",
        "tags_df['Percent_correct'] = tags_df.Right/tags_df.Total_questions\n",
        "tags_df = tags_df.sort_values(by = \"Percent_correct\")\n",
        "\n",
        "tags_df.head()"
      ],
      "metadata": {
        "colab": {
          "base_uri": "https://localhost:8080/",
          "height": 238
        },
        "id": "wO6ji2FILkvF",
        "outputId": "bb0a2556-b905-4b4f-e624-ac0eaac2d9d0"
      },
      "execution_count": 46,
      "outputs": [
        {
          "output_type": "execute_result",
          "data": {
            "text/plain": [
              "     Wrong  Right  Total_questions  Question_ids_with_tag  Percent_correct\n",
              "tag                                                                       \n",
              "24   15523   9653            25176                     17         0.383421\n",
              "23   25673  20228            45901                     11         0.440688\n",
              "19   17267  13833            31100                     57         0.444791\n",
              "151  26954  25882            52836                     16         0.489855\n",
              "108  23213  23511            46724                     20         0.503189"
            ],
            "text/html": [
              "\n",
              "  <div id=\"df-6a37c5b2-ddb5-40a2-acbb-90cc623d4165\">\n",
              "    <div class=\"colab-df-container\">\n",
              "      <div>\n",
              "<style scoped>\n",
              "    .dataframe tbody tr th:only-of-type {\n",
              "        vertical-align: middle;\n",
              "    }\n",
              "\n",
              "    .dataframe tbody tr th {\n",
              "        vertical-align: top;\n",
              "    }\n",
              "\n",
              "    .dataframe thead th {\n",
              "        text-align: right;\n",
              "    }\n",
              "</style>\n",
              "<table border=\"1\" class=\"dataframe\">\n",
              "  <thead>\n",
              "    <tr style=\"text-align: right;\">\n",
              "      <th></th>\n",
              "      <th>Wrong</th>\n",
              "      <th>Right</th>\n",
              "      <th>Total_questions</th>\n",
              "      <th>Question_ids_with_tag</th>\n",
              "      <th>Percent_correct</th>\n",
              "    </tr>\n",
              "    <tr>\n",
              "      <th>tag</th>\n",
              "      <th></th>\n",
              "      <th></th>\n",
              "      <th></th>\n",
              "      <th></th>\n",
              "      <th></th>\n",
              "    </tr>\n",
              "  </thead>\n",
              "  <tbody>\n",
              "    <tr>\n",
              "      <th>24</th>\n",
              "      <td>15523</td>\n",
              "      <td>9653</td>\n",
              "      <td>25176</td>\n",
              "      <td>17</td>\n",
              "      <td>0.383421</td>\n",
              "    </tr>\n",
              "    <tr>\n",
              "      <th>23</th>\n",
              "      <td>25673</td>\n",
              "      <td>20228</td>\n",
              "      <td>45901</td>\n",
              "      <td>11</td>\n",
              "      <td>0.440688</td>\n",
              "    </tr>\n",
              "    <tr>\n",
              "      <th>19</th>\n",
              "      <td>17267</td>\n",
              "      <td>13833</td>\n",
              "      <td>31100</td>\n",
              "      <td>57</td>\n",
              "      <td>0.444791</td>\n",
              "    </tr>\n",
              "    <tr>\n",
              "      <th>151</th>\n",
              "      <td>26954</td>\n",
              "      <td>25882</td>\n",
              "      <td>52836</td>\n",
              "      <td>16</td>\n",
              "      <td>0.489855</td>\n",
              "    </tr>\n",
              "    <tr>\n",
              "      <th>108</th>\n",
              "      <td>23213</td>\n",
              "      <td>23511</td>\n",
              "      <td>46724</td>\n",
              "      <td>20</td>\n",
              "      <td>0.503189</td>\n",
              "    </tr>\n",
              "  </tbody>\n",
              "</table>\n",
              "</div>\n",
              "      <button class=\"colab-df-convert\" onclick=\"convertToInteractive('df-6a37c5b2-ddb5-40a2-acbb-90cc623d4165')\"\n",
              "              title=\"Convert this dataframe to an interactive table.\"\n",
              "              style=\"display:none;\">\n",
              "        \n",
              "  <svg xmlns=\"http://www.w3.org/2000/svg\" height=\"24px\"viewBox=\"0 0 24 24\"\n",
              "       width=\"24px\">\n",
              "    <path d=\"M0 0h24v24H0V0z\" fill=\"none\"/>\n",
              "    <path d=\"M18.56 5.44l.94 2.06.94-2.06 2.06-.94-2.06-.94-.94-2.06-.94 2.06-2.06.94zm-11 1L8.5 8.5l.94-2.06 2.06-.94-2.06-.94L8.5 2.5l-.94 2.06-2.06.94zm10 10l.94 2.06.94-2.06 2.06-.94-2.06-.94-.94-2.06-.94 2.06-2.06.94z\"/><path d=\"M17.41 7.96l-1.37-1.37c-.4-.4-.92-.59-1.43-.59-.52 0-1.04.2-1.43.59L10.3 9.45l-7.72 7.72c-.78.78-.78 2.05 0 2.83L4 21.41c.39.39.9.59 1.41.59.51 0 1.02-.2 1.41-.59l7.78-7.78 2.81-2.81c.8-.78.8-2.07 0-2.86zM5.41 20L4 18.59l7.72-7.72 1.47 1.35L5.41 20z\"/>\n",
              "  </svg>\n",
              "      </button>\n",
              "      \n",
              "  <style>\n",
              "    .colab-df-container {\n",
              "      display:flex;\n",
              "      flex-wrap:wrap;\n",
              "      gap: 12px;\n",
              "    }\n",
              "\n",
              "    .colab-df-convert {\n",
              "      background-color: #E8F0FE;\n",
              "      border: none;\n",
              "      border-radius: 50%;\n",
              "      cursor: pointer;\n",
              "      display: none;\n",
              "      fill: #1967D2;\n",
              "      height: 32px;\n",
              "      padding: 0 0 0 0;\n",
              "      width: 32px;\n",
              "    }\n",
              "\n",
              "    .colab-df-convert:hover {\n",
              "      background-color: #E2EBFA;\n",
              "      box-shadow: 0px 1px 2px rgba(60, 64, 67, 0.3), 0px 1px 3px 1px rgba(60, 64, 67, 0.15);\n",
              "      fill: #174EA6;\n",
              "    }\n",
              "\n",
              "    [theme=dark] .colab-df-convert {\n",
              "      background-color: #3B4455;\n",
              "      fill: #D2E3FC;\n",
              "    }\n",
              "\n",
              "    [theme=dark] .colab-df-convert:hover {\n",
              "      background-color: #434B5C;\n",
              "      box-shadow: 0px 1px 3px 1px rgba(0, 0, 0, 0.15);\n",
              "      filter: drop-shadow(0px 1px 2px rgba(0, 0, 0, 0.3));\n",
              "      fill: #FFFFFF;\n",
              "    }\n",
              "  </style>\n",
              "\n",
              "      <script>\n",
              "        const buttonEl =\n",
              "          document.querySelector('#df-6a37c5b2-ddb5-40a2-acbb-90cc623d4165 button.colab-df-convert');\n",
              "        buttonEl.style.display =\n",
              "          google.colab.kernel.accessAllowed ? 'block' : 'none';\n",
              "\n",
              "        async function convertToInteractive(key) {\n",
              "          const element = document.querySelector('#df-6a37c5b2-ddb5-40a2-acbb-90cc623d4165');\n",
              "          const dataTable =\n",
              "            await google.colab.kernel.invokeFunction('convertToInteractive',\n",
              "                                                     [key], {});\n",
              "          if (!dataTable) return;\n",
              "\n",
              "          const docLinkHtml = 'Like what you see? Visit the ' +\n",
              "            '<a target=\"_blank\" href=https://colab.research.google.com/notebooks/data_table.ipynb>data table notebook</a>'\n",
              "            + ' to learn more about interactive tables.';\n",
              "          element.innerHTML = '';\n",
              "          dataTable['output_type'] = 'display_data';\n",
              "          await google.colab.output.renderOutput(dataTable, element);\n",
              "          const docLink = document.createElement('div');\n",
              "          docLink.innerHTML = docLinkHtml;\n",
              "          element.appendChild(docLink);\n",
              "        }\n",
              "      </script>\n",
              "    </div>\n",
              "  </div>\n",
              "  "
            ]
          },
          "metadata": {},
          "execution_count": 46
        }
      ]
    },
    {
      "cell_type": "code",
      "source": [
        "tags_df.shape"
      ],
      "metadata": {
        "colab": {
          "base_uri": "https://localhost:8080/"
        },
        "id": "1R4gqDQC6QoI",
        "outputId": "b735ae73-6178-4a77-98ef-7a5a88ee1276"
      },
      "execution_count": 48,
      "outputs": [
        {
          "output_type": "execute_result",
          "data": {
            "text/plain": [
              "(188, 5)"
            ]
          },
          "metadata": {},
          "execution_count": 48
        }
      ]
    },
    {
      "cell_type": "code",
      "source": [
        "select_rows = list(range(0,10)) + list(range(178, len(tags_df)))\n",
        "tags_select = tags_df.iloc[select_rows,4]\n",
        "\n",
        "fig = plt.figure(figsize=(12,6))\n",
        "x = tags_select.index\n",
        "y = tags_select.values\n",
        "clrs = ['red' if y < 0.6 else 'green' for y in tags_select.values]\n",
        "tags_select.plot.bar(x, y, color=clrs)\n",
        "plt.title(\"Десять самых сложных и десять самых простых тегов\")\n",
        "plt.xlabel(\"Тег\")\n",
        "plt.ylabel(\"Процент правильных ответов на вопросы с тегом\")\n",
        "plt.xticks(rotation=90)\n",
        "plt.show()"
      ],
      "metadata": {
        "colab": {
          "base_uri": "https://localhost:8080/",
          "height": 417
        },
        "id": "Ks1z9RFlL7Ws",
        "outputId": "ad7967f3-c14e-4033-cb10-257b174a86f7"
      },
      "execution_count": 47,
      "outputs": [
        {
          "output_type": "display_data",
          "data": {
            "text/plain": [
              "<Figure size 864x432 with 1 Axes>"
            ],
            "image/png": "[encoded data removed]"
          },
          "metadata": {}
        }
      ]
    },
    {
      "cell_type": "markdown",
      "source": [
        "Однако мы также должны понимать, что тег с наихудшим percent_correct имеет только около 250 000 ответов. Это небольшое число по сравнению с тегами с наибольшим количеством ответов."
      ],
      "metadata": {
        "id": "ZASqdzv4MXOc"
      }
    },
    {
      "cell_type": "code",
      "source": [
        "tags_select = tags_df.sort_values(by = \"Total_questions\", ascending = False).iloc[:30,:]\n",
        "tags_select = tags_select[\"Total_questions\"]\n",
        "\n",
        "fig = plt.figure(figsize=(12,6))\n",
        "ax = tags_select.plot.bar()\n",
        "plt.title(\"Тридцать тегов с наибольшим количеством ответов на вопросы\")\n",
        "plt.xticks(rotation=90)\n",
        "plt.ticklabel_format(style='plain', axis='y')\n",
        "ax.get_yaxis().set_major_formatter(FuncFormatter(lambda x, p: format(int(x), ','))) #add thousands separator\n",
        "plt.show()"
      ],
      "metadata": {
        "colab": {
          "base_uri": "https://localhost:8080/",
          "height": 417
        },
        "id": "EofWPFuDMP7d",
        "outputId": "7cf9c650-54c8-4e22-eabf-3bea70761fff"
      },
      "execution_count": 49,
      "outputs": [
        {
          "output_type": "display_data",
          "data": {
            "text/plain": [
              "<Figure size 864x432 with 1 Axes>"
            ],
            "image/png": "[encoded data removed]"
          },
          "metadata": {}
        }
      ]
    },
    {
      "cell_type": "markdown",
      "source": [
        "Теперь посмотрим так называемые \"Parts\".\n",
        "\n",
        "В TOEIC L&R используется оптически-сканируемый бланк ответов. За два часа необходимо ответить на 200 вопросов в разделах Listening (примерно 45 минут, 100 вопросов) и Reading (75 минут, 100 вопросов).\n",
        "\n",
        "Раздел аудирования состоит из частей 1-4 (Секция аудирования (около 45 минут, 100 вопросов)).\n",
        "\n",
        "Раздел по чтению состоит из частей 5-7 (Раздел по чтению (75 минут, 100 вопросов)).\n",
        "\n",
        "Ниже я показываю количество и процент правильных ответов по частям. Как вы можете видеть, в части 5 гораздо больше вопросов и она также самая сложная."
      ],
      "metadata": {
        "id": "EdYtyTqiM3Dq"
      }
    },
    {
      "cell_type": "code",
      "source": [
        "fig = plt.figure(figsize=(12,8))\n",
        "ax1 = fig.add_subplot(211)\n",
        "ax1 = questions.groupby(\"part\").count()['question_id'].plot.bar()\n",
        "plt.title(\"Количество частей\")\n",
        "plt.xlabel(\"Часть\")\n",
        "plt.xticks(rotation=0)\n",
        "\n",
        "part = questions.groupby('part').agg({'Wrong': ['sum'], 'Right': ['sum']})\n",
        "part['Percent_correct'] = part.Right/(part.Right + part.Wrong)\n",
        "part = part.iloc[:,2]\n",
        "\n",
        "ax2 = fig.add_subplot(212)\n",
        "plt.bar(part.index, part.values)\n",
        "for i, v in zip(part.index, part.values):\n",
        "    plt.text(i, v, round(v,2), color='white', fontweight='bold', fontsize=14, va='top', ha='center')\n",
        "\n",
        "plt.title(\"Проценты по частям\")\n",
        "plt.xlabel(\"Часть\")\n",
        "plt.xticks(rotation=0)\n",
        "plt.tight_layout(pad=2)\n",
        "plt.show()"
      ],
      "metadata": {
        "colab": {
          "base_uri": "https://localhost:8080/",
          "height": 567
        },
        "id": "jKn7rdFtMiBr",
        "outputId": "61a98af8-99cc-4869-bbdb-c28db77b0126"
      },
      "execution_count": 50,
      "outputs": [
        {
          "output_type": "display_data",
          "data": {
            "text/plain": [
              "<Figure size 864x576 with 2 Axes>"
            ],
            "image/png": "[encoded data removed]"
          },
          "metadata": {}
        }
      ]
    },
    {
      "cell_type": "markdown",
      "source": [
        "Анализ таблицы с лекциями"
      ],
      "metadata": {
        "id": "rl54pEmUZV0I"
      }
    },
    {
      "cell_type": "code",
      "source": [
        "lectures.head()"
      ],
      "metadata": {
        "colab": {
          "base_uri": "https://localhost:8080/",
          "height": 206
        },
        "id": "WjnKKrzANk9L",
        "outputId": "6b6fa1ba-d182-47f1-91da-af5781cdc955"
      },
      "execution_count": 51,
      "outputs": [
        {
          "output_type": "execute_result",
          "data": {
            "text/plain": [
              "   lecture_id  tag  part           type_of\n",
              "0          89  159     5           concept\n",
              "1         100   70     1           concept\n",
              "2         185   45     6           concept\n",
              "3         192   79     5  solving question\n",
              "4         317  156     5  solving question"
            ],
            "text/html": [
              "\n",
              "  <div id=\"df-e7131ae7-08fd-497d-9708-f30be58d5509\">\n",
              "    <div class=\"colab-df-container\">\n",
              "      <div>\n",
              "<style scoped>\n",
              "    .dataframe tbody tr th:only-of-type {\n",
              "        vertical-align: middle;\n",
              "    }\n",
              "\n",
              "    .dataframe tbody tr th {\n",
              "        vertical-align: top;\n",
              "    }\n",
              "\n",
              "    .dataframe thead th {\n",
              "        text-align: right;\n",
              "    }\n",
              "</style>\n",
              "<table border=\"1\" class=\"dataframe\">\n",
              "  <thead>\n",
              "    <tr style=\"text-align: right;\">\n",
              "      <th></th>\n",
              "      <th>lecture_id</th>\n",
              "      <th>tag</th>\n",
              "      <th>part</th>\n",
              "      <th>type_of</th>\n",
              "    </tr>\n",
              "  </thead>\n",
              "  <tbody>\n",
              "    <tr>\n",
              "      <th>0</th>\n",
              "      <td>89</td>\n",
              "      <td>159</td>\n",
              "      <td>5</td>\n",
              "      <td>concept</td>\n",
              "    </tr>\n",
              "    <tr>\n",
              "      <th>1</th>\n",
              "      <td>100</td>\n",
              "      <td>70</td>\n",
              "      <td>1</td>\n",
              "      <td>concept</td>\n",
              "    </tr>\n",
              "    <tr>\n",
              "      <th>2</th>\n",
              "      <td>185</td>\n",
              "      <td>45</td>\n",
              "      <td>6</td>\n",
              "      <td>concept</td>\n",
              "    </tr>\n",
              "    <tr>\n",
              "      <th>3</th>\n",
              "      <td>192</td>\n",
              "      <td>79</td>\n",
              "      <td>5</td>\n",
              "      <td>solving question</td>\n",
              "    </tr>\n",
              "    <tr>\n",
              "      <th>4</th>\n",
              "      <td>317</td>\n",
              "      <td>156</td>\n",
              "      <td>5</td>\n",
              "      <td>solving question</td>\n",
              "    </tr>\n",
              "  </tbody>\n",
              "</table>\n",
              "</div>\n",
              "      <button class=\"colab-df-convert\" onclick=\"convertToInteractive('df-e7131ae7-08fd-497d-9708-f30be58d5509')\"\n",
              "              title=\"Convert this dataframe to an interactive table.\"\n",
              "              style=\"display:none;\">\n",
              "        \n",
              "  <svg xmlns=\"http://www.w3.org/2000/svg\" height=\"24px\"viewBox=\"0 0 24 24\"\n",
              "       width=\"24px\">\n",
              "    <path d=\"M0 0h24v24H0V0z\" fill=\"none\"/>\n",
              "    <path d=\"M18.56 5.44l.94 2.06.94-2.06 2.06-.94-2.06-.94-.94-2.06-.94 2.06-2.06.94zm-11 1L8.5 8.5l.94-2.06 2.06-.94-2.06-.94L8.5 2.5l-.94 2.06-2.06.94zm10 10l.94 2.06.94-2.06 2.06-.94-2.06-.94-.94-2.06-.94 2.06-2.06.94z\"/><path d=\"M17.41 7.96l-1.37-1.37c-.4-.4-.92-.59-1.43-.59-.52 0-1.04.2-1.43.59L10.3 9.45l-7.72 7.72c-.78.78-.78 2.05 0 2.83L4 21.41c.39.39.9.59 1.41.59.51 0 1.02-.2 1.41-.59l7.78-7.78 2.81-2.81c.8-.78.8-2.07 0-2.86zM5.41 20L4 18.59l7.72-7.72 1.47 1.35L5.41 20z\"/>\n",
              "  </svg>\n",
              "      </button>\n",
              "      \n",
              "  <style>\n",
              "    .colab-df-container {\n",
              "      display:flex;\n",
              "      flex-wrap:wrap;\n",
              "      gap: 12px;\n",
              "    }\n",
              "\n",
              "    .colab-df-convert {\n",
              "      background-color: #E8F0FE;\n",
              "      border: none;\n",
              "      border-radius: 50%;\n",
              "      cursor: pointer;\n",
              "      display: none;\n",
              "      fill: #1967D2;\n",
              "      height: 32px;\n",
              "      padding: 0 0 0 0;\n",
              "      width: 32px;\n",
              "    }\n",
              "\n",
              "    .colab-df-convert:hover {\n",
              "      background-color: #E2EBFA;\n",
              "      box-shadow: 0px 1px 2px rgba(60, 64, 67, 0.3), 0px 1px 3px 1px rgba(60, 64, 67, 0.15);\n",
              "      fill: #174EA6;\n",
              "    }\n",
              "\n",
              "    [theme=dark] .colab-df-convert {\n",
              "      background-color: #3B4455;\n",
              "      fill: #D2E3FC;\n",
              "    }\n",
              "\n",
              "    [theme=dark] .colab-df-convert:hover {\n",
              "      background-color: #434B5C;\n",
              "      box-shadow: 0px 1px 3px 1px rgba(0, 0, 0, 0.15);\n",
              "      filter: drop-shadow(0px 1px 2px rgba(0, 0, 0, 0.3));\n",
              "      fill: #FFFFFF;\n",
              "    }\n",
              "  </style>\n",
              "\n",
              "      <script>\n",
              "        const buttonEl =\n",
              "          document.querySelector('#df-e7131ae7-08fd-497d-9708-f30be58d5509 button.colab-df-convert');\n",
              "        buttonEl.style.display =\n",
              "          google.colab.kernel.accessAllowed ? 'block' : 'none';\n",
              "\n",
              "        async function convertToInteractive(key) {\n",
              "          const element = document.querySelector('#df-e7131ae7-08fd-497d-9708-f30be58d5509');\n",
              "          const dataTable =\n",
              "            await google.colab.kernel.invokeFunction('convertToInteractive',\n",
              "                                                     [key], {});\n",
              "          if (!dataTable) return;\n",
              "\n",
              "          const docLinkHtml = 'Like what you see? Visit the ' +\n",
              "            '<a target=\"_blank\" href=https://colab.research.google.com/notebooks/data_table.ipynb>data table notebook</a>'\n",
              "            + ' to learn more about interactive tables.';\n",
              "          element.innerHTML = '';\n",
              "          dataTable['output_type'] = 'display_data';\n",
              "          await google.colab.output.renderOutput(dataTable, element);\n",
              "          const docLink = document.createElement('div');\n",
              "          docLink.innerHTML = docLinkHtml;\n",
              "          element.appendChild(docLink);\n",
              "        }\n",
              "      </script>\n",
              "    </div>\n",
              "  </div>\n",
              "  "
            ]
          },
          "metadata": {},
          "execution_count": 51
        }
      ]
    },
    {
      "cell_type": "code",
      "source": [
        "print(f'Всего {lectures.shape[0]} лекций.')"
      ],
      "metadata": {
        "colab": {
          "base_uri": "https://localhost:8080/"
        },
        "id": "tynsJl8mNvk6",
        "outputId": "8124ecb9-c3cd-4e3e-ee9f-abecd3cd72d5"
      },
      "execution_count": 52,
      "outputs": [
        {
          "output_type": "stream",
          "name": "stdout",
          "text": [
            "Всего 418 лекций.\n"
          ]
        }
      ]
    },
    {
      "cell_type": "code",
      "source": [
        "lectures.info()"
      ],
      "metadata": {
        "colab": {
          "base_uri": "https://localhost:8080/"
        },
        "id": "YUnnBwrKZaug",
        "outputId": "c35aa232-a527-474a-9439-cf54b940e553"
      },
      "execution_count": 53,
      "outputs": [
        {
          "output_type": "stream",
          "name": "stdout",
          "text": [
            "<class 'pandas.core.frame.DataFrame'>\n",
            "RangeIndex: 418 entries, 0 to 417\n",
            "Data columns (total 4 columns):\n",
            " #   Column      Non-Null Count  Dtype \n",
            "---  ------      --------------  ----- \n",
            " 0   lecture_id  418 non-null    int64 \n",
            " 1   tag         418 non-null    int64 \n",
            " 2   part        418 non-null    int64 \n",
            " 3   type_of     418 non-null    object\n",
            "dtypes: int64(3), object(1)\n",
            "memory usage: 13.2+ KB\n"
          ]
        }
      ]
    },
    {
      "cell_type": "markdown",
      "source": [
        "Таблица состоит из 418 строк и 4 уолонок."
      ],
      "metadata": {
        "id": "Lpuy6KPz67Mm"
      }
    },
    {
      "cell_type": "code",
      "source": [
        "lectures.isna().sum()"
      ],
      "metadata": {
        "colab": {
          "base_uri": "https://localhost:8080/"
        },
        "id": "dDZ4Nu4JZfS3",
        "outputId": "e11b668f-10ec-4f6c-fc2c-481ea436a3d7"
      },
      "execution_count": 54,
      "outputs": [
        {
          "output_type": "execute_result",
          "data": {
            "text/plain": [
              "lecture_id    0\n",
              "tag           0\n",
              "part          0\n",
              "type_of       0\n",
              "dtype: int64"
            ]
          },
          "metadata": {},
          "execution_count": 54
        }
      ]
    },
    {
      "cell_type": "markdown",
      "source": [
        "Давайте посмотрим на type_of."
      ],
      "metadata": {
        "id": "k8qp49vROAjq"
      }
    },
    {
      "cell_type": "code",
      "source": [
        "lectures.type_of.value_counts()"
      ],
      "metadata": {
        "colab": {
          "base_uri": "https://localhost:8080/"
        },
        "id": "3F9EnZt87cn9",
        "outputId": "66d09289-6f6b-49a0-89ce-5628db02f31c"
      },
      "execution_count": 56,
      "outputs": [
        {
          "output_type": "execute_result",
          "data": {
            "text/plain": [
              "concept             222\n",
              "solving question    186\n",
              "intention             7\n",
              "starter               3\n",
              "Name: type_of, dtype: int64"
            ]
          },
          "metadata": {},
          "execution_count": 56
        }
      ]
    },
    {
      "cell_type": "code",
      "source": [
        "lect_type_of = lectures.type_of.value_counts()\n",
        "\n",
        "fig = plt.figure(figsize=(12,6))\n",
        "plt.bar(lect_type_of.index, lect_type_of.values)\n",
        "for i, v in zip(lect_type_of.index, lect_type_of.values):\n",
        "    plt.text(i, v, v, color='black', fontweight='bold', fontsize=14, va='bottom', ha='center')\n",
        "plt.title(\"Типы лекций\")\n",
        "plt.xlabel(\"Тип\")\n",
        "plt.ylabel(\"Количество лекций\")\n",
        "plt.xticks(rotation=0)\n",
        "plt.show()"
      ],
      "metadata": {
        "colab": {
          "base_uri": "https://localhost:8080/",
          "height": 408
        },
        "id": "XH-vHXtaN4hS",
        "outputId": "c7aceea1-0e5f-47da-d21a-27a9d1626c80"
      },
      "execution_count": 55,
      "outputs": [
        {
          "output_type": "display_data",
          "data": {
            "text/plain": [
              "<Figure size 864x432 with 1 Axes>"
            ],
            "image/png": "[encoded data removed]"
          },
          "metadata": {}
        }
      ]
    },
    {
      "cell_type": "markdown",
      "source": [
        "Поскольку лекций не так много, я хочу проверить, помогает ли пользователю просмотр лекций вообще. Как вы можете видеть, это действительно помогает!"
      ],
      "metadata": {
        "id": "HDBm5vBuOQNx"
      }
    },
    {
      "cell_type": "code",
      "source": [
        "user_lect = data.groupby([\"user_id\", \"answered_correctly\"]).size().unstack()\n",
        "user_lect.columns = ['Lecture', 'Wrong', 'Right']\n",
        "user_lect['Lecture'] = user_lect['Lecture'].fillna(0)\n",
        "user_lect = user_lect.astype('Int64')\n",
        "user_lect['Watches_lecture'] = np.where(user_lect.Lecture > 0, True, False)\n",
        "\n",
        "watches_l = user_lect.groupby(\"Watches_lecture\").agg({'Wrong': ['sum'], 'Right': ['sum']})\n",
        "print(user_lect.Watches_lecture.value_counts())\n",
        "\n",
        "watches_l['Percent_correct'] = watches_l.Right/(watches_l.Right + watches_l.Wrong)\n",
        "\n",
        "watches_l = watches_l.iloc[:,2]\n",
        "\n",
        "fig = plt.figure(figsize=(12,4))\n",
        "watches_l.plot.barh()\n",
        "for i, v in zip(watches_l.index, watches_l.values):\n",
        "    plt.text(v, i, round(v,2), color='white', fontweight='bold', fontsize=14, ha='right', va='center')\n",
        "\n",
        "plt.title(\"Пользователь смотрит лекции: процент корректных ответов\")\n",
        "plt.xlabel(\"Процент корректных ответов\")\n",
        "plt.ylabel(\"Пользователь просмотрел хотя бы одну лекцию\")\n",
        "plt.xticks(rotation=0)\n",
        "plt.show()"
      ],
      "metadata": {
        "colab": {
          "base_uri": "https://localhost:8080/",
          "height": 391
        },
        "id": "CYNGAtFXOWFx",
        "outputId": "30892161-6847-4829-d367-f59bce5e41f5"
      },
      "execution_count": 57,
      "outputs": [
        {
          "output_type": "stream",
          "name": "stdout",
          "text": [
            "False    24467\n",
            "True     15024\n",
            "Name: Watches_lecture, dtype: int64\n"
          ]
        },
        {
          "output_type": "display_data",
          "data": {
            "text/plain": [
              "<Figure size 864x288 with 1 Axes>"
            ],
            "image/png": "[encoded data removed]"
          },
          "metadata": {}
        }
      ]
    },
    {
      "cell_type": "markdown",
      "source": [
        "Части (task_container_id) могут также содержать лекции, и я хочу выяснить, есть ли части с большим количеством лекций."
      ],
      "metadata": {
        "id": "s6CYIQxzPKtF"
      }
    },
    {
      "cell_type": "code",
      "source": [
        "batch_lect = data.groupby([\"task_container_id\", \"answered_correctly\"]).size().unstack()\n",
        "batch_lect.columns = ['Lecture', 'Wrong', 'Right']\n",
        "batch_lect['Lecture'] = batch_lect['Lecture'].fillna(0)\n",
        "batch_lect = batch_lect.astype('Int64')\n",
        "batch_lect['Percent_correct'] = batch_lect.Right/(batch_lect.Wrong + batch_lect.Right)\n",
        "batch_lect['Percent_lecture'] = batch_lect.Lecture/(batch_lect.Lecture + batch_lect.Wrong + batch_lect.Right)\n",
        "batch_lect = batch_lect.sort_values(by = \"Percent_lecture\", ascending = False)\n",
        "\n",
        "print(f'Наибольшее количество лекций, просмотренных в рамках одного task_container_id, равно {batch_lect.Lecture.max()}.')"
      ],
      "metadata": {
        "colab": {
          "base_uri": "https://localhost:8080/"
        },
        "id": "OeG74o5HPP7n",
        "outputId": "ca03d418-0547-48aa-a196-09b6ca8a6e80"
      },
      "execution_count": 58,
      "outputs": [
        {
          "output_type": "stream",
          "name": "stdout",
          "text": [
            "Наибольшее количество лекций, просмотренных в рамках одного task_container_id, равно 523.\n"
          ]
        }
      ]
    },
    {
      "cell_type": "markdown",
      "source": [
        "Как вы можете видеть ниже (таблица отсортирована по убыванию Percent_lecture), процент лекций у task_container_id никогда не бывает высоким. "
      ],
      "metadata": {
        "id": "DfcIySFzPl9H"
      }
    },
    {
      "cell_type": "code",
      "source": [
        "batch_lect.head()"
      ],
      "metadata": {
        "colab": {
          "base_uri": "https://localhost:8080/",
          "height": 238
        },
        "id": "nVwg8-9LP-0W",
        "outputId": "861ab246-e52c-40a4-fd22-848f0187712e"
      },
      "execution_count": 59,
      "outputs": [
        {
          "output_type": "execute_result",
          "data": {
            "text/plain": [
              "                   Lecture  Wrong  Right  Percent_correct  Percent_lecture\n",
              "task_container_id                                                         \n",
              "9651                     2      4     10         0.714286            0.125\n",
              "9034                     2      5     12         0.705882         0.105263\n",
              "9785                     2      3     15         0.833333              0.1\n",
              "8409                     2      6     13         0.684211         0.095238\n",
              "9596                     2     10      9         0.473684         0.095238"
            ],
            "text/html": [
              "\n",
              "  <div id=\"df-9e12bba5-1b3a-4f57-812b-d1c233d973a0\">\n",
              "    <div class=\"colab-df-container\">\n",
              "      <div>\n",
              "<style scoped>\n",
              "    .dataframe tbody tr th:only-of-type {\n",
              "        vertical-align: middle;\n",
              "    }\n",
              "\n",
              "    .dataframe tbody tr th {\n",
              "        vertical-align: top;\n",
              "    }\n",
              "\n",
              "    .dataframe thead th {\n",
              "        text-align: right;\n",
              "    }\n",
              "</style>\n",
              "<table border=\"1\" class=\"dataframe\">\n",
              "  <thead>\n",
              "    <tr style=\"text-align: right;\">\n",
              "      <th></th>\n",
              "      <th>Lecture</th>\n",
              "      <th>Wrong</th>\n",
              "      <th>Right</th>\n",
              "      <th>Percent_correct</th>\n",
              "      <th>Percent_lecture</th>\n",
              "    </tr>\n",
              "    <tr>\n",
              "      <th>task_container_id</th>\n",
              "      <th></th>\n",
              "      <th></th>\n",
              "      <th></th>\n",
              "      <th></th>\n",
              "      <th></th>\n",
              "    </tr>\n",
              "  </thead>\n",
              "  <tbody>\n",
              "    <tr>\n",
              "      <th>9651</th>\n",
              "      <td>2</td>\n",
              "      <td>4</td>\n",
              "      <td>10</td>\n",
              "      <td>0.714286</td>\n",
              "      <td>0.125</td>\n",
              "    </tr>\n",
              "    <tr>\n",
              "      <th>9034</th>\n",
              "      <td>2</td>\n",
              "      <td>5</td>\n",
              "      <td>12</td>\n",
              "      <td>0.705882</td>\n",
              "      <td>0.105263</td>\n",
              "    </tr>\n",
              "    <tr>\n",
              "      <th>9785</th>\n",
              "      <td>2</td>\n",
              "      <td>3</td>\n",
              "      <td>15</td>\n",
              "      <td>0.833333</td>\n",
              "      <td>0.1</td>\n",
              "    </tr>\n",
              "    <tr>\n",
              "      <th>8409</th>\n",
              "      <td>2</td>\n",
              "      <td>6</td>\n",
              "      <td>13</td>\n",
              "      <td>0.684211</td>\n",
              "      <td>0.095238</td>\n",
              "    </tr>\n",
              "    <tr>\n",
              "      <th>9596</th>\n",
              "      <td>2</td>\n",
              "      <td>10</td>\n",
              "      <td>9</td>\n",
              "      <td>0.473684</td>\n",
              "      <td>0.095238</td>\n",
              "    </tr>\n",
              "  </tbody>\n",
              "</table>\n",
              "</div>\n",
              "      <button class=\"colab-df-convert\" onclick=\"convertToInteractive('df-9e12bba5-1b3a-4f57-812b-d1c233d973a0')\"\n",
              "              title=\"Convert this dataframe to an interactive table.\"\n",
              "              style=\"display:none;\">\n",
              "        \n",
              "  <svg xmlns=\"http://www.w3.org/2000/svg\" height=\"24px\"viewBox=\"0 0 24 24\"\n",
              "       width=\"24px\">\n",
              "    <path d=\"M0 0h24v24H0V0z\" fill=\"none\"/>\n",
              "    <path d=\"M18.56 5.44l.94 2.06.94-2.06 2.06-.94-2.06-.94-.94-2.06-.94 2.06-2.06.94zm-11 1L8.5 8.5l.94-2.06 2.06-.94-2.06-.94L8.5 2.5l-.94 2.06-2.06.94zm10 10l.94 2.06.94-2.06 2.06-.94-2.06-.94-.94-2.06-.94 2.06-2.06.94z\"/><path d=\"M17.41 7.96l-1.37-1.37c-.4-.4-.92-.59-1.43-.59-.52 0-1.04.2-1.43.59L10.3 9.45l-7.72 7.72c-.78.78-.78 2.05 0 2.83L4 21.41c.39.39.9.59 1.41.59.51 0 1.02-.2 1.41-.59l7.78-7.78 2.81-2.81c.8-.78.8-2.07 0-2.86zM5.41 20L4 18.59l7.72-7.72 1.47 1.35L5.41 20z\"/>\n",
              "  </svg>\n",
              "      </button>\n",
              "      \n",
              "  <style>\n",
              "    .colab-df-container {\n",
              "      display:flex;\n",
              "      flex-wrap:wrap;\n",
              "      gap: 12px;\n",
              "    }\n",
              "\n",
              "    .colab-df-convert {\n",
              "      background-color: #E8F0FE;\n",
              "      border: none;\n",
              "      border-radius: 50%;\n",
              "      cursor: pointer;\n",
              "      display: none;\n",
              "      fill: #1967D2;\n",
              "      height: 32px;\n",
              "      padding: 0 0 0 0;\n",
              "      width: 32px;\n",
              "    }\n",
              "\n",
              "    .colab-df-convert:hover {\n",
              "      background-color: #E2EBFA;\n",
              "      box-shadow: 0px 1px 2px rgba(60, 64, 67, 0.3), 0px 1px 3px 1px rgba(60, 64, 67, 0.15);\n",
              "      fill: #174EA6;\n",
              "    }\n",
              "\n",
              "    [theme=dark] .colab-df-convert {\n",
              "      background-color: #3B4455;\n",
              "      fill: #D2E3FC;\n",
              "    }\n",
              "\n",
              "    [theme=dark] .colab-df-convert:hover {\n",
              "      background-color: #434B5C;\n",
              "      box-shadow: 0px 1px 3px 1px rgba(0, 0, 0, 0.15);\n",
              "      filter: drop-shadow(0px 1px 2px rgba(0, 0, 0, 0.3));\n",
              "      fill: #FFFFFF;\n",
              "    }\n",
              "  </style>\n",
              "\n",
              "      <script>\n",
              "        const buttonEl =\n",
              "          document.querySelector('#df-9e12bba5-1b3a-4f57-812b-d1c233d973a0 button.colab-df-convert');\n",
              "        buttonEl.style.display =\n",
              "          google.colab.kernel.accessAllowed ? 'block' : 'none';\n",
              "\n",
              "        async function convertToInteractive(key) {\n",
              "          const element = document.querySelector('#df-9e12bba5-1b3a-4f57-812b-d1c233d973a0');\n",
              "          const dataTable =\n",
              "            await google.colab.kernel.invokeFunction('convertToInteractive',\n",
              "                                                     [key], {});\n",
              "          if (!dataTable) return;\n",
              "\n",
              "          const docLinkHtml = 'Like what you see? Visit the ' +\n",
              "            '<a target=\"_blank\" href=https://colab.research.google.com/notebooks/data_table.ipynb>data table notebook</a>'\n",
              "            + ' to learn more about interactive tables.';\n",
              "          element.innerHTML = '';\n",
              "          dataTable['output_type'] = 'display_data';\n",
              "          await google.colab.output.renderOutput(dataTable, element);\n",
              "          const docLink = document.createElement('div');\n",
              "          docLink.innerHTML = docLinkHtml;\n",
              "          element.appendChild(docLink);\n",
              "        }\n",
              "      </script>\n",
              "    </div>\n",
              "  </div>\n",
              "  "
            ]
          },
          "metadata": {},
          "execution_count": 59
        }
      ]
    },
    {
      "cell_type": "markdown",
      "source": [
        "Помогает ли наличие лекции в части? Как вы можете видеть, нет. В части без лекций примерно на 8% больше правильных ответов, чем в части с лекциями."
      ],
      "metadata": {
        "id": "G1FasP-VQACO"
      }
    },
    {
      "cell_type": "code",
      "source": [
        "batch_lect['Has_lecture'] = np.where(batch_lect.Lecture == 0, False, True)\n",
        "print(f'Мы имеем {batch_lect[batch_lect.Has_lecture == True].shape[0]} task_container_ids с лекциями и {batch_lect[batch_lect.Has_lecture == False].shape[0]} task_container_ids без лекций.')"
      ],
      "metadata": {
        "colab": {
          "base_uri": "https://localhost:8080/"
        },
        "id": "rF2bNz-2Qc_V",
        "outputId": "50aed1e9-b3b6-4b3e-d722-eccb46f590f9"
      },
      "execution_count": 60,
      "outputs": [
        {
          "output_type": "stream",
          "name": "stdout",
          "text": [
            "Мы имеем 5979 task_container_ids с лекциями и 4021 task_container_ids без лекций.\n"
          ]
        }
      ]
    },
    {
      "cell_type": "code",
      "source": [
        "batch_lect = batch_lect[['Wrong', 'Right', 'Has_lecture']]\n",
        "batch_lect = batch_lect.groupby(\"Has_lecture\").sum()\n",
        "batch_lect['Percent_correct'] = batch_lect.Right/(batch_lect.Wrong + batch_lect.Right)\n",
        "batch_lect = batch_lect[['Percent_correct']]\n",
        "batch_lect"
      ],
      "metadata": {
        "colab": {
          "base_uri": "https://localhost:8080/",
          "height": 143
        },
        "id": "O8ZMp-2IQ5f2",
        "outputId": "2a8ee150-a9b0-4c43-d964-65b0df5b4c99"
      },
      "execution_count": 61,
      "outputs": [
        {
          "output_type": "execute_result",
          "data": {
            "text/plain": [
              "             Percent_correct\n",
              "Has_lecture                 \n",
              "False               0.735944\n",
              "True                0.656856"
            ],
            "text/html": [
              "\n",
              "  <div id=\"df-51805f2d-d0be-4dfd-a645-cce86d293c9d\">\n",
              "    <div class=\"colab-df-container\">\n",
              "      <div>\n",
              "<style scoped>\n",
              "    .dataframe tbody tr th:only-of-type {\n",
              "        vertical-align: middle;\n",
              "    }\n",
              "\n",
              "    .dataframe tbody tr th {\n",
              "        vertical-align: top;\n",
              "    }\n",
              "\n",
              "    .dataframe thead th {\n",
              "        text-align: right;\n",
              "    }\n",
              "</style>\n",
              "<table border=\"1\" class=\"dataframe\">\n",
              "  <thead>\n",
              "    <tr style=\"text-align: right;\">\n",
              "      <th></th>\n",
              "      <th>Percent_correct</th>\n",
              "    </tr>\n",
              "    <tr>\n",
              "      <th>Has_lecture</th>\n",
              "      <th></th>\n",
              "    </tr>\n",
              "  </thead>\n",
              "  <tbody>\n",
              "    <tr>\n",
              "      <th>False</th>\n",
              "      <td>0.735944</td>\n",
              "    </tr>\n",
              "    <tr>\n",
              "      <th>True</th>\n",
              "      <td>0.656856</td>\n",
              "    </tr>\n",
              "  </tbody>\n",
              "</table>\n",
              "</div>\n",
              "      <button class=\"colab-df-convert\" onclick=\"convertToInteractive('df-51805f2d-d0be-4dfd-a645-cce86d293c9d')\"\n",
              "              title=\"Convert this dataframe to an interactive table.\"\n",
              "              style=\"display:none;\">\n",
              "        \n",
              "  <svg xmlns=\"http://www.w3.org/2000/svg\" height=\"24px\"viewBox=\"0 0 24 24\"\n",
              "       width=\"24px\">\n",
              "    <path d=\"M0 0h24v24H0V0z\" fill=\"none\"/>\n",
              "    <path d=\"M18.56 5.44l.94 2.06.94-2.06 2.06-.94-2.06-.94-.94-2.06-.94 2.06-2.06.94zm-11 1L8.5 8.5l.94-2.06 2.06-.94-2.06-.94L8.5 2.5l-.94 2.06-2.06.94zm10 10l.94 2.06.94-2.06 2.06-.94-2.06-.94-.94-2.06-.94 2.06-2.06.94z\"/><path d=\"M17.41 7.96l-1.37-1.37c-.4-.4-.92-.59-1.43-.59-.52 0-1.04.2-1.43.59L10.3 9.45l-7.72 7.72c-.78.78-.78 2.05 0 2.83L4 21.41c.39.39.9.59 1.41.59.51 0 1.02-.2 1.41-.59l7.78-7.78 2.81-2.81c.8-.78.8-2.07 0-2.86zM5.41 20L4 18.59l7.72-7.72 1.47 1.35L5.41 20z\"/>\n",
              "  </svg>\n",
              "      </button>\n",
              "      \n",
              "  <style>\n",
              "    .colab-df-container {\n",
              "      display:flex;\n",
              "      flex-wrap:wrap;\n",
              "      gap: 12px;\n",
              "    }\n",
              "\n",
              "    .colab-df-convert {\n",
              "      background-color: #E8F0FE;\n",
              "      border: none;\n",
              "      border-radius: 50%;\n",
              "      cursor: pointer;\n",
              "      display: none;\n",
              "      fill: #1967D2;\n",
              "      height: 32px;\n",
              "      padding: 0 0 0 0;\n",
              "      width: 32px;\n",
              "    }\n",
              "\n",
              "    .colab-df-convert:hover {\n",
              "      background-color: #E2EBFA;\n",
              "      box-shadow: 0px 1px 2px rgba(60, 64, 67, 0.3), 0px 1px 3px 1px rgba(60, 64, 67, 0.15);\n",
              "      fill: #174EA6;\n",
              "    }\n",
              "\n",
              "    [theme=dark] .colab-df-convert {\n",
              "      background-color: #3B4455;\n",
              "      fill: #D2E3FC;\n",
              "    }\n",
              "\n",
              "    [theme=dark] .colab-df-convert:hover {\n",
              "      background-color: #434B5C;\n",
              "      box-shadow: 0px 1px 3px 1px rgba(0, 0, 0, 0.15);\n",
              "      filter: drop-shadow(0px 1px 2px rgba(0, 0, 0, 0.3));\n",
              "      fill: #FFFFFF;\n",
              "    }\n",
              "  </style>\n",
              "\n",
              "      <script>\n",
              "        const buttonEl =\n",
              "          document.querySelector('#df-51805f2d-d0be-4dfd-a645-cce86d293c9d button.colab-df-convert');\n",
              "        buttonEl.style.display =\n",
              "          google.colab.kernel.accessAllowed ? 'block' : 'none';\n",
              "\n",
              "        async function convertToInteractive(key) {\n",
              "          const element = document.querySelector('#df-51805f2d-d0be-4dfd-a645-cce86d293c9d');\n",
              "          const dataTable =\n",
              "            await google.colab.kernel.invokeFunction('convertToInteractive',\n",
              "                                                     [key], {});\n",
              "          if (!dataTable) return;\n",
              "\n",
              "          const docLinkHtml = 'Like what you see? Visit the ' +\n",
              "            '<a target=\"_blank\" href=https://colab.research.google.com/notebooks/data_table.ipynb>data table notebook</a>'\n",
              "            + ' to learn more about interactive tables.';\n",
              "          element.innerHTML = '';\n",
              "          dataTable['output_type'] = 'display_data';\n",
              "          await google.colab.output.renderOutput(dataTable, element);\n",
              "          const docLink = document.createElement('div');\n",
              "          docLink.innerHTML = docLinkHtml;\n",
              "          element.appendChild(docLink);\n",
              "        }\n",
              "      </script>\n",
              "    </div>\n",
              "  </div>\n",
              "  "
            ]
          },
          "metadata": {},
          "execution_count": 61
        }
      ]
    }
  ]
}